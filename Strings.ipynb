{
 "cells": [
  {
   "cell_type": "code",
   "execution_count": 4,
   "metadata": {},
   "outputs": [
    {
     "name": "stdout",
     "output_type": "stream",
     "text": [
      "429\n"
     ]
    }
   ],
   "source": [
    "example_multiline = \"\"\"Python is a high-level, interpreted, general-purpose programming language. Being a general-purpose language,\\\n",
    "                it can be used to build almost any type of application with the right tools/libraries. Additionally, python supports objects, modules, threads, exception-handling,\\\n",
    "                and automatic memory management which help in modelling real-world problems and building applications to solve these problems.\"\"\"\n",
    "print(len(example_multiline)) # to get all the no of characters or length of string"
   ]
  },
  {
   "cell_type": "code",
   "execution_count": 2,
   "metadata": {},
   "outputs": [],
   "source": [
    "example_singleline = \"Python is a high-level, interpreted, general-purpose programming language.\""
   ]
  },
  {
   "attachments": {},
   "cell_type": "markdown",
   "metadata": {},
   "source": [
    "## Accessing the characters of string\n",
    "    -   By Using Index\n",
    "    -   By Using Slice Operator"
   ]
  },
  {
   "cell_type": "code",
   "execution_count": 7,
   "metadata": {},
   "outputs": [
    {
     "name": "stdout",
     "output_type": "stream",
     "text": [
      "P\n",
      "a\n",
      " \n"
     ]
    },
    {
     "ename": "IndexError",
     "evalue": "string index out of range",
     "output_type": "error",
     "traceback": [
      "\u001b[1;31m---------------------------------------------------------------------------\u001b[0m",
      "\u001b[1;31mIndexError\u001b[0m                                Traceback (most recent call last)",
      "Cell \u001b[1;32mIn[7], line 10\u001b[0m\n\u001b[0;32m      7\u001b[0m \u001b[39mprint\u001b[39m(example_multiline[\u001b[39m-\u001b[39m\u001b[39m10\u001b[39m])\n\u001b[0;32m      9\u001b[0m \u001b[39m#Excpetion\u001b[39;00m\n\u001b[1;32m---> 10\u001b[0m \u001b[39mprint\u001b[39m(example_multiline[\u001b[39m-\u001b[39;49m\u001b[39m10000\u001b[39;49m]) \u001b[39m# IndexError: string index out of range\u001b[39;00m\n",
      "\u001b[1;31mIndexError\u001b[0m: string index out of range"
     ]
    }
   ],
   "source": [
    "# By Using Index\n",
    "\n",
    "print(example_multiline[0])\n",
    "#positive Indexing\n",
    "print(example_multiline[10])\n",
    "# Negative Indexing\n",
    "print(example_multiline[-10])\n",
    "\n",
    "#Excpetion\n",
    "print(example_multiline[-10000]) # IndexError: string index out of range"
   ]
  },
  {
   "cell_type": "code",
   "execution_count": 23,
   "metadata": {},
   "outputs": [
    {
     "name": "stdout",
     "output_type": "stream",
     "text": [
      "Python is a high-level, interpreted, general-purpose programming language.\n",
      "on is a high\n",
      "amming langu\n",
      "oiai\n",
      ".egaugnal gnimmargorp esoprup-lareneg ,deterpretni ,level-hgih a si nohtyP\n"
     ]
    }
   ],
   "source": [
    "# Slice Operator\n",
    "# syntax: [begin:stop:step]\n",
    "# default [0:len(string):1]\n",
    "\n",
    "print(example_singleline[::]) # empty index\n",
    "\n",
    "print(example_singleline[4:16])\n",
    "print(example_singleline[-16:-4])\n",
    "print(example_singleline[4:16:3])\n",
    "\n",
    "print(example_singleline[::-1]) # String Reverse"
   ]
  },
  {
   "attachments": {},
   "cell_type": "markdown",
   "metadata": {},
   "source": [
    "## Mathematical Operators on String\n",
    "    -   + Operator - concat\n",
    "    -   * Operator - reps of string"
   ]
  },
  {
   "cell_type": "code",
   "execution_count": 24,
   "metadata": {},
   "outputs": [
    {
     "name": "stdout",
     "output_type": "stream",
     "text": [
      "Python is a high-level, interpreted, general-purpose programming language.PYTHON\n"
     ]
    }
   ],
   "source": [
    "print(example_singleline+ \"PYTHON\")"
   ]
  },
  {
   "cell_type": "code",
   "execution_count": 28,
   "metadata": {},
   "outputs": [
    {
     "name": "stdout",
     "output_type": "stream",
     "text": [
      "PythonPythonPythonPython\n"
     ]
    },
    {
     "ename": "TypeError",
     "evalue": "unsupported operand type(s) for +: 'int' and 'str'",
     "output_type": "error",
     "traceback": [
      "\u001b[1;31m---------------------------------------------------------------------------\u001b[0m",
      "\u001b[1;31mTypeError\u001b[0m                                 Traceback (most recent call last)",
      "Cell \u001b[1;32mIn[28], line 2\u001b[0m\n\u001b[0;32m      1\u001b[0m \u001b[39mprint\u001b[39m(\u001b[39m\"\u001b[39m\u001b[39mPython\u001b[39m\u001b[39m\"\u001b[39m\u001b[39m*\u001b[39m\u001b[39m4\u001b[39m)\n\u001b[1;32m----> 2\u001b[0m \u001b[39mprint\u001b[39m(\u001b[39m4\u001b[39;49m\u001b[39m+\u001b[39;49m\u001b[39m5\u001b[39;49m\u001b[39m*\u001b[39;49m\u001b[39m\"\u001b[39;49m\u001b[39mPython\u001b[39;49m\u001b[39m\"\u001b[39;49m)\n",
      "\u001b[1;31mTypeError\u001b[0m: unsupported operand type(s) for +: 'int' and 'str'"
     ]
    }
   ],
   "source": [
    "print(\"Python\"*4)\n",
    "print(4+5*\"Python\") #TypeError: unsupported operand type(s) for +: 'int' and 'str'"
   ]
  },
  {
   "attachments": {},
   "cell_type": "markdown",
   "metadata": {},
   "source": [
    "## Memebership"
   ]
  },
  {
   "cell_type": "code",
   "execution_count": 30,
   "metadata": {},
   "outputs": [
    {
     "name": "stdout",
     "output_type": "stream",
     "text": [
      "True\n",
      "False\n"
     ]
    }
   ],
   "source": [
    "print(\"Python\" in example_singleline)\n",
    "print(\"Python\" not in example_singleline)"
   ]
  },
  {
   "attachments": {},
   "cell_type": "markdown",
   "metadata": {},
   "source": [
    "## Comparision\n",
    "    -   comaparision (<,>,<=,>=)\n",
    "    -   equality    (==,!=)"
   ]
  },
  {
   "cell_type": "code",
   "execution_count": 31,
   "metadata": {},
   "outputs": [
    {
     "name": "stdout",
     "output_type": "stream",
     "text": [
      "True\n",
      "False\n"
     ]
    }
   ],
   "source": [
    "print(example_multiline > example_singleline)\n",
    "\n",
    "\n",
    "print(example_multiline == example_singleline)"
   ]
  },
  {
   "attachments": {},
   "cell_type": "markdown",
   "metadata": {},
   "source": [
    "## Removing Spaces from String\n",
    "    -   rstrip()    - remove spaces from right hand side\n",
    "    -   lstring()   - remoce spaces from left hand side\n",
    "    -   strip()     - remove spaces from both side"
   ]
  },
  {
   "cell_type": "code",
   "execution_count": 34,
   "metadata": {},
   "outputs": [
    {
     "name": "stdout",
     "output_type": "stream",
     "text": [
      " Pythoncheck\n",
      "Python check\n",
      "Pythoncheck\n"
     ]
    }
   ],
   "source": [
    "strip_example= \" Python \"\n",
    "print(strip_example.rstrip()+\"check\")\n",
    "print(strip_example.lstrip()+\"check\")\n",
    "print(strip_example.strip()+\"check\")"
   ]
  },
  {
   "attachments": {},
   "cell_type": "markdown",
   "metadata": {},
   "source": [
    "## Find Substring"
   ]
  },
  {
   "cell_type": "code",
   "execution_count": 52,
   "metadata": {},
   "outputs": [
    {
     "name": "stdout",
     "output_type": "stream",
     "text": [
      "0\n",
      "-1\n",
      "0\n",
      "3\n",
      "-1\n",
      "3\n"
     ]
    },
    {
     "ename": "ValueError",
     "evalue": "substring not found",
     "output_type": "error",
     "traceback": [
      "\u001b[1;31m---------------------------------------------------------------------------\u001b[0m",
      "\u001b[1;31mValueError\u001b[0m                                Traceback (most recent call last)",
      "Cell \u001b[1;32mIn[52], line 14\u001b[0m\n\u001b[0;32m     11\u001b[0m \u001b[39mprint\u001b[39m(ex\u001b[39m.\u001b[39mrfind(\u001b[39m\"\u001b[39m\u001b[39mR\u001b[39m\u001b[39m\"\u001b[39m))\u001b[39m# if not found returns -1\u001b[39;00m\n\u001b[0;32m     13\u001b[0m \u001b[39mprint\u001b[39m(ex\u001b[39m.\u001b[39mrindex(\u001b[39m\"\u001b[39m\u001b[39ml\u001b[39m\u001b[39m\"\u001b[39m))\n\u001b[1;32m---> 14\u001b[0m \u001b[39mprint\u001b[39m(ex\u001b[39m.\u001b[39;49mrindex(\u001b[39m\"\u001b[39;49m\u001b[39mR\u001b[39;49m\u001b[39m\"\u001b[39;49m)) \u001b[39m# if not found, Exception- ValueError: substring not found\u001b[39;00m\n",
      "\u001b[1;31mValueError\u001b[0m: substring not found"
     ]
    }
   ],
   "source": [
    "ex = \"Will Smith\"\n",
    "# Forward Direction\n",
    "print(ex.find(\"W\"))\n",
    "print(ex.find(\"R\"))# if not found returns -1\n",
    "\n",
    "print(ex.index(\"W\"))\n",
    "# print(ex.index(\"R\")) # if not found, Exception- ValueError: substring not found\n",
    "\n",
    "#backword direction\n",
    "print(ex.rfind(\"l\"))\n",
    "print(ex.rfind(\"R\"))# if not found returns -1\n",
    "\n",
    "print(ex.rindex(\"l\"))\n",
    "print(ex.rindex(\"R\")) # if not found, Exception- ValueError: substring not found\n",
    "\n"
   ]
  },
  {
   "attachments": {},
   "cell_type": "markdown",
   "metadata": {},
   "source": [
    "## Counting Substing in String\n"
   ]
  },
  {
   "cell_type": "code",
   "execution_count": 57,
   "metadata": {},
   "outputs": [
    {
     "name": "stdout",
     "output_type": "stream",
     "text": [
      "1\n",
      "0\n"
     ]
    }
   ],
   "source": [
    "print(example_multiline.count(\"Python\")) # retur count if found\n",
    "\n",
    "print(example_multiline.count(\"Python\",0,5)) # Returns 0 if not found"
   ]
  },
  {
   "attachments": {},
   "cell_type": "markdown",
   "metadata": {},
   "source": [
    "## Replace String With Another String"
   ]
  },
  {
   "cell_type": "code",
   "execution_count": 58,
   "metadata": {},
   "outputs": [
    {
     "name": "stdout",
     "output_type": "stream",
     "text": [
      "PYTHON is a high-level, interpreted, general-purpose programming language.\n"
     ]
    }
   ],
   "source": [
    "print(example_singleline.replace(\"Python\",\"PYTHON\"))"
   ]
  },
  {
   "attachments": {},
   "cell_type": "markdown",
   "metadata": {},
   "source": [
    "## Spliting of Substring"
   ]
  },
  {
   "cell_type": "code",
   "execution_count": 62,
   "metadata": {},
   "outputs": [
    {
     "name": "stdout",
     "output_type": "stream",
     "text": [
      "['Hello', 'There']\n",
      "['Hello', 'There']\n"
     ]
    }
   ],
   "source": [
    "ex = \"Hello There\"\n",
    "print(ex.split())\n",
    "print(ex.split(\" \"))"
   ]
  },
  {
   "attachments": {},
   "cell_type": "markdown",
   "metadata": {},
   "source": [
    "## Joining of String"
   ]
  },
  {
   "cell_type": "code",
   "execution_count": 65,
   "metadata": {},
   "outputs": [
    {
     "name": "stdout",
     "output_type": "stream",
     "text": [
      "Hello-There\n"
     ]
    }
   ],
   "source": [
    "ex = \"Hello There\"\n",
    "ex_list = ex.split()\n",
    "print('-'.join(ex_list))"
   ]
  },
  {
   "attachments": {},
   "cell_type": "markdown",
   "metadata": {},
   "source": [
    "## CASE Change"
   ]
  },
  {
   "cell_type": "code",
   "execution_count": 69,
   "metadata": {},
   "outputs": [
    {
     "name": "stdout",
     "output_type": "stream",
     "text": [
      "capitalize  Hi, hello\n",
      "swapcase  hI, HELLO\n",
      "lower  hi, hello\n",
      "title  Hi, Hello\n",
      "upper  HI, HELLO\n"
     ]
    }
   ],
   "source": [
    "ex = \"Hi, hello\"\n",
    "\n",
    "print(\"capitalize \",ex.capitalize())\n",
    "print(\"swapcase \",ex.swapcase())\n",
    "print(\"lower \",ex.lower())\n",
    "print(\"title \",ex.title())\n",
    "print(\"upper \",ex.upper())"
   ]
  },
  {
   "attachments": {},
   "cell_type": "markdown",
   "metadata": {},
   "source": [
    "## Checking starting and Ending part of String"
   ]
  },
  {
   "cell_type": "code",
   "execution_count": 70,
   "metadata": {},
   "outputs": [
    {
     "name": "stdout",
     "output_type": "stream",
     "text": [
      "True\n",
      "False\n"
     ]
    }
   ],
   "source": [
    "ex = \"Hi, hello\"\n",
    "\n",
    "print(ex.startswith(\"H\"))\n",
    "print(ex.endswith(\"H\"))"
   ]
  },
  {
   "attachments": {},
   "cell_type": "markdown",
   "metadata": {},
   "source": [
    "## check type of characters in String"
   ]
  },
  {
   "cell_type": "code",
   "execution_count": 72,
   "metadata": {},
   "outputs": [
    {
     "name": "stdout",
     "output_type": "stream",
     "text": [
      "False\n",
      "False\n",
      "True\n",
      "False\n",
      "False\n",
      "False\n",
      "True\n",
      "False\n",
      "False\n",
      "False\n",
      "False\n",
      "False\n"
     ]
    }
   ],
   "source": [
    "ex = \"Hi, hello\"\n",
    "print(ex.isalnum()) # A string is alpha-numeric if all characters in the string are alpha-numeric and there is at least one character in the string.\n",
    "print(ex.isalpha()) # A string is alphabetic if all characters in the string are alphabetic and there is at least one character in the string.\n",
    "print(ex.isascii()) # ASCII characters have code points in the range U+0000-U+007F. Empty string is ASCII too.\n",
    "print(ex.isdecimal()) # A string is a decimal string if all characters in the string are decimal and there is at least one character in the string\n",
    "print(ex.isidentifier()) # Call keyword.iskeyword(s) to test whether string s is a reserved identifier, such as \"def\" or \"class\".\n",
    "print(ex.islower()) # A string is lowercase if all cased characters in the string are lowercase and there is at least one cased character in the string.\n",
    "print(ex.isprintable()) # A string is printable if all of its characters are considered printable in repr() or if it is empty.\n",
    "print(ex.isspace()) # A string is whitespace if all characters in the string are whitespace and there is at least one character in the string.\n",
    "print(ex.istitle()) # In a title-cased string, upper- and title-case characters may only follow uncased characters and lowercase characters only cased ones.\n",
    "print(ex.isupper()) # A string is uppercase if all cased characters in the string are uppercase and there is at least one cased character in the string\n",
    "print(ex.isnumeric()) # A string is numeric if all characters in the string are numeric and there is at least one character in the string.\n",
    "print(ex.isdigit()) # A string is a digit string if all characters in the string are digits and there is at least one character in the string."
   ]
  },
  {
   "attachments": {},
   "cell_type": "markdown",
   "metadata": {},
   "source": [
    "## Formatting the String"
   ]
  },
  {
   "cell_type": "code",
   "execution_count": 73,
   "metadata": {},
   "outputs": [
    {
     "name": "stdout",
     "output_type": "stream",
     "text": [
      "My Name Is Rohit and Sirname is Gore\n",
      "My Name Is Rohit and Sirname is Gore\n",
      "My Name Is Rohit and Sirname is Gore\n"
     ]
    }
   ],
   "source": [
    "name = \"Rohit\"\n",
    "last_name = \"Gore\"\n",
    "print(\"My Name Is {} and Sirname is {}\".format(name,last_name))\n",
    "print(\"My Name Is {0} and Sirname is {1}\".format(name,last_name))\n",
    "print(\"My Name Is {a} and Sirname is {b}\".format(a=name,b=last_name))"
   ]
  },
  {
   "attachments": {},
   "cell_type": "markdown",
   "metadata": {},
   "source": [
    "# String Problems"
   ]
  },
  {
   "attachments": {},
   "cell_type": "markdown",
   "metadata": {},
   "source": [
    "#### Reverse String\n",
    "    string = \"My Name is Lakhan\"\n",
    "    Output- nahkaL si emaN yM\n"
   ]
  },
  {
   "cell_type": "code",
   "execution_count": 76,
   "metadata": {},
   "outputs": [
    {
     "name": "stdout",
     "output_type": "stream",
     "text": [
      "nahkaL si emaN yM\n",
      "nahkaL si emaN yM\n",
      "nahkaL si emaN yM\n"
     ]
    }
   ],
   "source": [
    "string = \"My Name is Lakhan\"\n",
    "# 1st Way\n",
    "print(string[::-1])\n",
    "\n",
    "#2nd Way\n",
    "print(''.join(reversed(string)))\n",
    "\n",
    "# 3rd Way\n",
    "i = len(string)-1\n",
    "revered = \"\"\n",
    "while i>=0:\n",
    "    revered = revered+string[i]\n",
    "    i=i-1\n",
    "print(revered)"
   ]
  },
  {
   "attachments": {},
   "cell_type": "markdown",
   "metadata": {},
   "source": [
    "#### Reverse Order of Words\n",
    "    string = \"My Name is Lakhan\"\n",
    "    output - Lakhan is Name My"
   ]
  },
  {
   "cell_type": "code",
   "execution_count": 86,
   "metadata": {},
   "outputs": [
    {
     "name": "stdout",
     "output_type": "stream",
     "text": [
      "Lakhan is Name My\n"
     ]
    }
   ],
   "source": [
    "string = \"My Name is Lakhan\"\n",
    "new_string = []\n",
    "li = string.split()\n",
    "i= len(li) -1 \n",
    "while i>=0:\n",
    "    new_string.append(li[i])\n",
    "    i-=1\n",
    "print(' '.join(new_string))\n"
   ]
  },
  {
   "attachments": {},
   "cell_type": "markdown",
   "metadata": {},
   "source": [
    "#### Reverse Content of Each Word\n",
    "    string = \"My Name is Lakhan\"\n",
    "    output - yM emaN si nahkaL"
   ]
  },
  {
   "cell_type": "code",
   "execution_count": 99,
   "metadata": {},
   "outputs": [
    {
     "name": "stdout",
     "output_type": "stream",
     "text": [
      "yM emaN si nahkaL\n"
     ]
    }
   ],
   "source": [
    "string = \"My Name is Lakhan\"\n",
    "li = string.split(\" \")\n",
    "output=[]\n",
    "i=0\n",
    "while i < len(li):\n",
    "    output.append(li[i][::-1])\n",
    "    i+=1\n",
    "\n",
    "print(' '.join(output))\n"
   ]
  },
  {
   "attachments": {},
   "cell_type": "markdown",
   "metadata": {},
   "source": [
    "#### Even and Odd Position Charaters From Given String"
   ]
  },
  {
   "cell_type": "code",
   "execution_count": 104,
   "metadata": {},
   "outputs": [
    {
     "name": "stdout",
     "output_type": "stream",
     "text": [
      "Characters at Even Position :  M aei ahn\n",
      "Chacters at Odd Position : yNm sLka\n",
      "M aei ahn\n",
      "yNm sLka"
     ]
    }
   ],
   "source": [
    "string = \"My Name is Lakhan\"\n",
    "\n",
    "# 1st Way\n",
    "print(\"Characters at Even Position : \", string[::2])\n",
    "print(\"Chacters at Odd Position :\", string[1::2])\n",
    "\n",
    "# 2nd Way\n",
    "#even\n",
    "i = 0\n",
    "while i< len(string):\n",
    "    print(string[i],end=\"\")\n",
    "    i+=2\n",
    "print()\n",
    "#odd\n",
    "i = 1\n",
    "while i< len(string):\n",
    "    print(string[i],end=\"\")\n",
    "    i+=2\n"
   ]
  },
  {
   "attachments": {},
   "cell_type": "markdown",
   "metadata": {},
   "source": [
    "#### WAP for\n",
    "        input - a4b3c2\n",
    "        output - aaaabbbcc"
   ]
  },
  {
   "cell_type": "code",
   "execution_count": 111,
   "metadata": {},
   "outputs": [
    {
     "name": "stdout",
     "output_type": "stream",
     "text": [
      "aaaabbbcc\n"
     ]
    }
   ],
   "source": [
    "input_ = \"a4b3c2\"\n",
    "output=\"\"\n",
    "for i in input_:\n",
    "    if i.isalpha():\n",
    "        output=output+i\n",
    "        bucket = i\n",
    "    else:\n",
    "        output= output+bucket*(int(i)-1)\n",
    "print(output)"
   ]
  },
  {
   "attachments": {},
   "cell_type": "markdown",
   "metadata": {},
   "source": [
    "####\n",
    "        input - AAASDSDSSSDDDFFFGG\n",
    "        output- ASDFG"
   ]
  },
  {
   "cell_type": "code",
   "execution_count": 113,
   "metadata": {},
   "outputs": [
    {
     "name": "stdout",
     "output_type": "stream",
     "text": [
      "ASDFG\n"
     ]
    }
   ],
   "source": [
    "input_ = \"AAASDSDSSSDDDFFFGG\"\n",
    "output=[]\n",
    "for i in input_:\n",
    "    if i not in output:\n",
    "        output.append(i)\n",
    "print(\"\".join(output))"
   ]
  },
  {
   "attachments": {},
   "cell_type": "markdown",
   "metadata": {},
   "source": [
    "####\n",
    "    Input = \"AABBBCCCCCDDEFF\"\n",
    "    Output = {\"A\":2,\"B\":3,\"C\":5,\"E\":1,\"F\":2}"
   ]
  },
  {
   "cell_type": "code",
   "execution_count": 114,
   "metadata": {},
   "outputs": [
    {
     "name": "stdout",
     "output_type": "stream",
     "text": [
      "{'A': 2, 'B': 3, 'C': 5, 'D': 2, 'E': 1, 'F': 2}\n"
     ]
    }
   ],
   "source": [
    "input_ = \"AABBBCCCCCDDEFF\"\n",
    "output={}\n",
    "\n",
    "for i in input_:\n",
    "    if i in output.keys():\n",
    "        output[i]=output[i]+1\n",
    "    else:\n",
    "        output[i]=1\n",
    "print(output)"
   ]
  },
  {
   "cell_type": "code",
   "execution_count": null,
   "metadata": {},
   "outputs": [],
   "source": [
    "ip = 'aaabbbaabbcc'\n",
    "#op = '3a3b2a2b2c'\n",
    "ch=ip[0]\n",
    "count=1\n",
    "result2=''\n",
    "for i in range(1,len(ip)):\n",
    "    if ip[i] == ch:\n",
    "        count+=1\n",
    "    else:\n",
    "        result2+=str(count)+str(ch)\n",
    "        ch=ip[i]\n",
    "        count=1\n",
    "result2+=str(count)+str(ch)\n",
    "print(result2)"
   ]
  },
  {
   "cell_type": "code",
   "execution_count": 2,
   "metadata": {},
   "outputs": [
    {
     "name": "stdout",
     "output_type": "stream",
     "text": [
      "000034\n"
     ]
    }
   ],
   "source": [
    "num = 34\n",
    "print(str(num).zfill(6))"
   ]
  },
  {
   "cell_type": "code",
   "execution_count": 5,
   "metadata": {},
   "outputs": [
    {
     "name": "stdout",
     "output_type": "stream",
     "text": [
      "['Python is a general-purpose language.', 'Python is popular.']\n"
     ]
    }
   ],
   "source": [
    "text = \"\"\"Python is a general-purpose language.\n",
    "Python is popular.\"\"\"\n",
    "print(text.splitlines())"
   ]
  },
  {
   "cell_type": "code",
   "execution_count": 6,
   "metadata": {},
   "outputs": [
    {
     "name": "stdout",
     "output_type": "stream",
     "text": [
      "['Open', 'High', 'Low', 'Close']\n"
     ]
    }
   ],
   "source": [
    "text = 'Open,High,Low,Close'\n",
    "print(text.split(','))"
   ]
  },
  {
   "cell_type": "code",
   "execution_count": 7,
   "metadata": {},
   "outputs": [
    {
     "name": "stdout",
     "output_type": "stream",
     "text": [
      "code1: False\n",
      "code2: True\n"
     ]
    }
   ],
   "source": [
    "code1 = 'FVNISJND-20'\n",
    "code2 = 'FVNISJND20'\n",
    "print(f'code1: {code1.isalnum()}')\n",
    "print(f'code2: {code2.isalnum()}')"
   ]
  },
  {
   "cell_type": "code",
   "execution_count": 8,
   "metadata": {},
   "outputs": [
    {
     "name": "stdout",
     "output_type": "stream",
     "text": [
      "path1: 49\n",
      "path2: 49\n",
      "path3: -1\n"
     ]
    }
   ],
   "source": [
    "path1 = 'https://e-smartdata.teachable.com/p/sciezka-data-scientist-machine-learning-engineer'\n",
    "path2 = 'https://e-smartdata.teachable.com/p/sciezka-data-scientist-deep-learning-engineer'\n",
    "path3 = 'https://e-smartdata.teachable.com/p/sciezka-bi-analyst-data-analyst'\n",
    "print(f\"path1: {path1.find('scientist')}\")\n",
    "print(f\"path2: {path2.find('scientist')}\")\n",
    "print(f\"path3: {path3.find('scientist')}\")"
   ]
  }
 ],
 "metadata": {
  "kernelspec": {
   "display_name": "pythonenv",
   "language": "python",
   "name": "python3"
  },
  "language_info": {
   "codemirror_mode": {
    "name": "ipython",
    "version": 3
   },
   "file_extension": ".py",
   "mimetype": "text/x-python",
   "name": "python",
   "nbconvert_exporter": "python",
   "pygments_lexer": "ipython3",
   "version": "3.11.2"
  },
  "orig_nbformat": 4
 },
 "nbformat": 4,
 "nbformat_minor": 2
}
