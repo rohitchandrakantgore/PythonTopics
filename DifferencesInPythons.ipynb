{
 "cells": [
  {
   "attachments": {},
   "cell_type": "markdown",
   "metadata": {},
   "source": [
    "|List                                                           |Tuple                                      |\n",
    "|---------------------------------------------                  |-----------------------------------------  |\n",
    "|Single backticks|comma seperated values within square brackets |comma seperated values within parenthesis  |\n",
    "|Square Backets mandatory                                       |Parenthsis optional                        |\n",
    "|Mutable                                                        |Immutable|                                 |\n",
    "| Objects cannot be used as keys for dictionaries               |Can Be Used as Keys of Dictionary          |"
   ]
  },
  {
   "cell_type": "code",
   "execution_count": null,
   "metadata": {},
   "outputs": [],
   "source": []
  }
 ],
 "metadata": {
  "language_info": {
   "name": "python"
  },
  "orig_nbformat": 4
 },
 "nbformat": 4,
 "nbformat_minor": 2
}
