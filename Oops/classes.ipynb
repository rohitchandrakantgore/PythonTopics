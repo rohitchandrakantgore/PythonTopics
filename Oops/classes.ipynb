{
 "cells": [
  {
   "attachments": {},
   "cell_type": "markdown",
   "metadata": {},
   "source": [
    "# Class\n",
    "-   every thing in python is a object. to create objects we need class which is like blueprint or plan.\n",
    "-   class represents properties(attributes) and actions (behaviour) of object\n",
    "-   properties represented by variables\n",
    "-   ations represented by methods"
   ]
  },
  {
   "cell_type": "code",
   "execution_count": 2,
   "metadata": {},
   "outputs": [
    {
     "name": "stdout",
     "output_type": "stream",
     "text": [
      "Class Documentation\n",
      "Help on class className in module __main__:\n",
      "\n",
      "class className(builtins.object)\n",
      " |  Class Documentation\n",
      " |  \n",
      " |  Data descriptors defined here:\n",
      " |  \n",
      " |  __dict__\n",
      " |      dictionary for instance variables (if defined)\n",
      " |  \n",
      " |  __weakref__\n",
      " |      list of weak references to the object (if defined)\n",
      "\n"
     ]
    }
   ],
   "source": [
    "# syntax\n",
    "class className:\n",
    "    \"Class Documentation\"\n",
    "\n",
    "print(className.__doc__)\n",
    "help(className)\n",
    "\n",
    "obj = className()  #object- exitence of class , can write multiple objects for a class"
   ]
  },
  {
   "attachments": {},
   "cell_type": "markdown",
   "metadata": {},
   "source": [
    "### Object\n",
    "    physical existence of class\n",
    "    can create any number of objects for a class\n",
    "    ex. s1 = Studnet()\n",
    "\n",
    "### Reference Variable\n",
    "    variable used to refer object\n",
    "    used to access properties and methods of object\n",
    "    ex. s1.name()\n",
    "\n",
    "### Self Variable\n",
    "    default variable\n",
    "    always points to current object\n",
    "    used to access instance variables and instance methods of object\n",
    "\n",
    "### Constructor\n",
    "    special method in python\n",
    "    name should be  **__init__(self)**\n",
    "    executes auomatically at the time of object creation\n",
    "    main purpose - declare and initialize instance variables\n",
    "    per object excute only once\n",
    "    can take atlease one argument (atleast self)\n",
    "    optional but if not providing then python provides deafult constructor"
   ]
  },
  {
   "cell_type": "code",
   "execution_count": 4,
   "metadata": {},
   "outputs": [
    {
     "name": "stdout",
     "output_type": "stream",
     "text": [
      "Rohan\n"
     ]
    }
   ],
   "source": [
    "class Student():\n",
    "    def __init__(self,name,rollno,marks) -> None:  #constructor\n",
    "        self.name = name  \n",
    "        self.rollno = rollno\n",
    "        self.marks = marks\n",
    "\n",
    "    def display(self):\n",
    "        print(self.name)\n",
    "\n",
    "\n",
    "stud = Student(\"Rohan\",12,90)  #object\n",
    "stud.display() #reference varibale\n"
   ]
  },
  {
   "attachments": {},
   "cell_type": "markdown",
   "metadata": {},
   "source": [
    "#### Method vs Constuctor\n",
    "- name - name of method can be anything but for costuctor is should be __init__\n",
    "- execution - method will be executed when we calls to it, constructor automatically executes at the time of object creation\n",
    "- purpose - method is used for writing business logic, constructors used to declare and initalize instance variable"
   ]
  },
  {
   "attachments": {},
   "cell_type": "markdown",
   "metadata": {},
   "source": [
    "### Variables Types\n",
    "-   Instance Variables (Object Level) - value varied from object to object. for every object seperate copy created.\n",
    "-   Static Variables (Class Level) - value not varied from object to object. for all classes only one copy is created and shared with all\n",
    "-   Local Variables (Method Level) - created when method called and destroyed once method excuted, cannot be accessed outside method"
   ]
  },
  {
   "cell_type": "code",
   "execution_count": 8,
   "metadata": {},
   "outputs": [
    {
     "name": "stdout",
     "output_type": "stream",
     "text": [
      "{'name': 'strudent', 'math': 70, 'english': 68}\n",
      "strudent\n",
      "{'name': 'strudent', 'math': 70}\n"
     ]
    }
   ],
   "source": [
    "# instance Varibale\n",
    "\n",
    "class Student:\n",
    "    def __init__(self):\n",
    "        self.name = \"strudent\"   # type 1 , inside constructor using self\n",
    "\n",
    "    def marks(self):\n",
    "        self.math = 70          # Type2, inside method using self\n",
    "\n",
    "stud = Student()\n",
    "stud.marks()\n",
    "stud.english = 68              # Type 3, outside class using object reference variables\n",
    "\n",
    "print(stud.__dict__)\n",
    "print(stud.name)\n",
    "del stud.english  # to delete instance varibales, for that given object only\n",
    "print(stud.__dict__)"
   ]
  },
  {
   "cell_type": "code",
   "execution_count": 24,
   "metadata": {},
   "outputs": [
    {
     "name": "stdout",
     "output_type": "stream",
     "text": [
      "{'__module__': '__main__', 'total_marks': 100, 'subjectes': 7, '__init__': <function Student.__init__ at 0x000002260CF513A0>, 'marks': <function Student.marks at 0x000002260CF51760>, 'marks2': <classmethod(<function Student.marks2 at 0x000002260CF51580>)>, 'marks3': <staticmethod(<function Student.marks3 at 0x000002260CF51080>)>, '__dict__': <attribute '__dict__' of 'Student' objects>, '__weakref__': <attribute '__weakref__' of 'Student' objects>, '__doc__': None, 'name': 'strudent', 'math': 70, 'bio': 60, 'History': 90, 'Gio': 80}\n",
      "strudent\n",
      "{'__module__': '__main__', 'total_marks': 100, '__init__': <function Student.__init__ at 0x000002260CF513A0>, 'marks': <function Student.marks at 0x000002260CF51760>, 'marks2': <classmethod(<function Student.marks2 at 0x000002260CF51580>)>, 'marks3': <staticmethod(<function Student.marks3 at 0x000002260CF51080>)>, '__dict__': <attribute '__dict__' of 'Student' objects>, '__weakref__': <attribute '__weakref__' of 'Student' objects>, '__doc__': None, 'name': 'strudent', 'math': 70, 'bio': 60, 'History': 90, 'Gio': 80}\n"
     ]
    },
    {
     "ename": "AttributeError",
     "evalue": "type object 'Student' has no attribute 'subjectes'",
     "output_type": "error",
     "traceback": [
      "\u001b[1;31m---------------------------------------------------------------------------\u001b[0m",
      "\u001b[1;31mAttributeError\u001b[0m                            Traceback (most recent call last)",
      "Cell \u001b[1;32mIn[24], line 34\u001b[0m\n\u001b[0;32m     31\u001b[0m \u001b[39mdel\u001b[39;00m Student\u001b[39m.\u001b[39msubjectes  \u001b[39m# to delete static varibales, for use class name\u001b[39;00m\n\u001b[0;32m     32\u001b[0m \u001b[39mprint\u001b[39m(Student\u001b[39m.\u001b[39m\u001b[39m__dict__\u001b[39m)\n\u001b[1;32m---> 34\u001b[0m stud2 \u001b[39m=\u001b[39m  Student()\n\u001b[0;32m     35\u001b[0m \u001b[39mprint\u001b[39m(stud2\u001b[39m.\u001b[39m\u001b[39m__dict__\u001b[39m)  \u001b[39m# thowes error vaiables subjects deleted at first object\u001b[39;00m\n",
      "Cell \u001b[1;32mIn[24], line 10\u001b[0m, in \u001b[0;36mStudent.__init__\u001b[1;34m(self)\u001b[0m\n\u001b[0;32m      8\u001b[0m Student\u001b[39m.\u001b[39mname \u001b[39m=\u001b[39m \u001b[39m\"\u001b[39m\u001b[39mstrudent\u001b[39m\u001b[39m\"\u001b[39m   \u001b[39m# type 2 , inside constructor using class name\u001b[39;00m\n\u001b[0;32m      9\u001b[0m \u001b[39mself\u001b[39m\u001b[39m.\u001b[39mtotal_marks \u001b[39m=\u001b[39m \u001b[39mself\u001b[39m\u001b[39m.\u001b[39mtotal_marks \u001b[39m# use 1, inside constuctor using self\u001b[39;00m\n\u001b[1;32m---> 10\u001b[0m \u001b[39mself\u001b[39m\u001b[39m.\u001b[39msubjectes \u001b[39m=\u001b[39m Student\u001b[39m.\u001b[39;49msubjectes\n",
      "\u001b[1;31mAttributeError\u001b[0m: type object 'Student' has no attribute 'subjectes'"
     ]
    }
   ],
   "source": [
    "# Static Variable\n",
    "# Types for Declare static variables\n",
    "# use for access static variables\n",
    "class Student:\n",
    "    total_marks=100  # Type 1, within class but outside any methods\n",
    "    subjectes=7\n",
    "    def __init__(self):\n",
    "        Student.name = \"strudent\"   # type 2 , inside constructor using class name\n",
    "        self.total_marks = self.total_marks # use 1, inside constuctor using self\n",
    "        self.subjectes = Student.subjectes # Use 2, inside constuctor using classname\n",
    "\n",
    "    def marks(self):\n",
    "        Student.math = 70          # Type 3, inside method using class name\n",
    "\n",
    "    @classmethod\n",
    "    def marks2(cls):\n",
    "        cls.bio = 60                # type 4 , inside clas method using cls variable\n",
    "        Student.History = 90       # type 5 , inside clas method using class name\n",
    "    @staticmethod\n",
    "    def marks3():\n",
    "        Student.Gio = 80           # type 6 , inside static method using class name\n",
    "\n",
    "stud = Student()\n",
    "stud.marks()\n",
    "stud.marks2()\n",
    "stud.marks3()\n",
    "stud.english = 68              # Type 3, outside class using object reference variables\n",
    "\n",
    "print(Student.__dict__)\n",
    "print(Student.name)\n",
    "del Student.subjectes  # to delete static varibales, for use class name\n",
    "print(Student.__dict__)\n",
    "\n",
    "stud2 =  Student()\n",
    "print(stud2.__dict__)  # thowes error vaiables subjects deleted at first object\n"
   ]
  },
  {
   "cell_type": "code",
   "execution_count": 28,
   "metadata": {},
   "outputs": [
    {
     "name": "stdout",
     "output_type": "stream",
     "text": [
      "100\n",
      "{'name': 'strudent'}\n"
     ]
    }
   ],
   "source": [
    "# Local Variables\n",
    "class Student:\n",
    "    def __init__(self):\n",
    "        self.name = \"strudent\"   # type 1 , inside constructor using self\n",
    "\n",
    "    def marks(self):\n",
    "        math=100            # Local Variable\n",
    "        print(math)\n",
    "\n",
    "stud = Student()\n",
    "stud.marks()\n",
    "print(stud.__dict__) "
   ]
  },
  {
   "attachments": {},
   "cell_type": "markdown",
   "metadata": {},
   "source": [
    "### Method Types\n",
    "-   Instance Methods - method implemented using instace variables. within the class accessed by self variable , outside class accessed by object reference\n",
    "-   Class Methods - method implemeted using class(static) variables, explecity declare using @classmethod decorator. \n",
    "-   Static Methods"
   ]
  },
  {
   "cell_type": "code",
   "execution_count": 34,
   "metadata": {},
   "outputs": [
    {
     "name": "stdout",
     "output_type": "stream",
     "text": [
      "Rajesh is a Boy\n",
      "Riya is a Girl\n"
     ]
    }
   ],
   "source": [
    "# Instance Method\n",
    "class Student:\n",
    "    def __init__(self,name,gender):\n",
    "        self.name = name\n",
    "        self.gender = gender\n",
    "\n",
    "    def display(self):\n",
    "        print(self.name, \"is a\",self.gender)\n",
    "\n",
    "stud1 = Student(\"Rajesh\", \"Boy\")\n",
    "stud1.display()\n",
    "\n",
    "stud2 = Student(\"Riya\", \"Girl\")\n",
    "stud2.display()"
   ]
  }
 ],
 "metadata": {
  "kernelspec": {
   "display_name": "pythonenv",
   "language": "python",
   "name": "python3"
  },
  "language_info": {
   "codemirror_mode": {
    "name": "ipython",
    "version": 3
   },
   "file_extension": ".py",
   "mimetype": "text/x-python",
   "name": "python",
   "nbconvert_exporter": "python",
   "pygments_lexer": "ipython3",
   "version": "3.11.2"
  },
  "orig_nbformat": 4
 },
 "nbformat": 4,
 "nbformat_minor": 2
}
