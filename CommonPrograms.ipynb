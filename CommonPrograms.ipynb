{
 "cells": [
  {
   "attachments": {},
   "cell_type": "markdown",
   "metadata": {},
   "source": [
    "## Even Odd"
   ]
  },
  {
   "cell_type": "code",
   "execution_count": 1,
   "metadata": {},
   "outputs": [
    {
     "name": "stdout",
     "output_type": "stream",
     "text": [
      "(10, 'is even number.')\n",
      "(11, 'is odd number.')\n"
     ]
    }
   ],
   "source": [
    "# type1\n",
    "\n",
    "def even_odd(no):\n",
    "    if no%2==0:\n",
    "        return(no,\"is even number.\")\n",
    "    else:\n",
    "        return(no,\"is odd number.\")\n",
    "print(even_odd(10))\n",
    "print(even_odd(11))"
   ]
  },
  {
   "attachments": {},
   "cell_type": "markdown",
   "metadata": {},
   "source": [
    "## Fibonacci Series"
   ]
  },
  {
   "attachments": {},
   "cell_type": "markdown",
   "metadata": {},
   "source": [
    "## Factorial Number"
   ]
  },
  {
   "cell_type": "code",
   "execution_count": 4,
   "metadata": {},
   "outputs": [
    {
     "name": "stdout",
     "output_type": "stream",
     "text": [
      "factorial of  0 is 1\n",
      "factorial of  1 is 1\n",
      "factorial of  2 is 2\n",
      "factorial of  3 is 6\n",
      "factorial of  4 is 24\n",
      "factorial of  5 is 120\n",
      "factorial of  6 is 720\n",
      "factorial of  7 is 5040\n",
      "factorial of  8 is 40320\n",
      "factorial of  9 is 362880\n"
     ]
    }
   ],
   "source": [
    "# Type 1\n",
    "def facto(num):\n",
    "    result= 1\n",
    "    while num>=1:\n",
    "        result = result * num\n",
    "        num-=1\n",
    "    return result\n",
    "\n",
    "for i in range(10):\n",
    "    print(\"factorial of \",i,\"is\", facto(i))"
   ]
  }
 ],
 "metadata": {
  "kernelspec": {
   "display_name": "pythonenv",
   "language": "python",
   "name": "python3"
  },
  "language_info": {
   "codemirror_mode": {
    "name": "ipython",
    "version": 3
   },
   "file_extension": ".py",
   "mimetype": "text/x-python",
   "name": "python",
   "nbconvert_exporter": "python",
   "pygments_lexer": "ipython3",
   "version": "3.11.2"
  },
  "orig_nbformat": 4
 },
 "nbformat": 4,
 "nbformat_minor": 2
}
