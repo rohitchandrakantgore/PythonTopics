{
 "cells": [
  {
   "attachments": {},
   "cell_type": "markdown",
   "metadata": {},
   "source": [
    "## Even Odd"
   ]
  },
  {
   "cell_type": "code",
   "execution_count": 1,
   "metadata": {},
   "outputs": [
    {
     "name": "stdout",
     "output_type": "stream",
     "text": [
      "(10, 'is even number.')\n",
      "(11, 'is odd number.')\n"
     ]
    }
   ],
   "source": [
    "# type1\n",
    "\n",
    "def even_odd(no):\n",
    "    if no%2==0:\n",
    "        return(no,\"is even number.\")\n",
    "    else:\n",
    "        return(no,\"is odd number.\")\n",
    "print(even_odd(10))\n",
    "print(even_odd(11))"
   ]
  },
  {
   "attachments": {},
   "cell_type": "markdown",
   "metadata": {},
   "source": [
    "## Fibonacci Series"
   ]
  },
  {
   "attachments": {},
   "cell_type": "markdown",
   "metadata": {},
   "source": [
    "## Factorial Number"
   ]
  },
  {
   "cell_type": "code",
   "execution_count": 3,
   "metadata": {},
   "outputs": [
    {
     "name": "stdout",
     "output_type": "stream",
     "text": [
      "factorial of  0 is 1\n",
      "factorial of  1 is 1\n",
      "factorial of  2 is 2\n",
      "factorial of  3 is 6\n",
      "factorial of  4 is 24\n",
      "factorial of  5 is 120\n",
      "factorial of  6 is 720\n",
      "factorial of  7 is 5040\n",
      "factorial of  8 is 40320\n",
      "factorial of  9 is 362880\n"
     ]
    }
   ],
   "source": [
    "# Type 1\n",
    "def facto(num):\n",
    "    result= 1\n",
    "    while num>=1:\n",
    "        result = result * num\n",
    "        num-=1\n",
    "    return result\n",
    "\n",
    "for i in range(10):\n",
    "    print(\"factorial of \",i,\"is\", facto(i))"
   ]
  },
  {
   "cell_type": "code",
   "execution_count": 4,
   "metadata": {},
   "outputs": [
    {
     "name": "stdout",
     "output_type": "stream",
     "text": [
      "1580\n"
     ]
    }
   ],
   "source": [
    "def calculate():\n",
    "    return sum([i for i in range(100) if i % 5 == 0 or i % 7 == 0])\n",
    "print(calculate())"
   ]
  },
  {
   "cell_type": "markdown",
   "metadata": {},
   "source": [
    "### GCD"
   ]
  },
  {
   "cell_type": "code",
   "execution_count": 16,
   "metadata": {},
   "outputs": [
    {
     "name": "stdout",
     "output_type": "stream",
     "text": [
      "5\n"
     ]
    }
   ],
   "source": [
    "def greatest_common_divisor(a, b):\n",
    "    while b:\n",
    "        a, b = b, a % b\n",
    "    return a\n",
    "\n",
    "print(greatest_common_divisor(10,55))"
   ]
  },
  {
   "cell_type": "markdown",
   "metadata": {},
   "source": [
    "### Prime Number"
   ]
  },
  {
   "cell_type": "code",
   "execution_count": 18,
   "metadata": {},
   "outputs": [
    {
     "name": "stdout",
     "output_type": "stream",
     "text": [
      "False\n"
     ]
    }
   ],
   "source": [
    "def is_prime(n):\n",
    "    if n < 2:\n",
    "        return False\n",
    "    if n % 2 == 0:\n",
    "        return n == 2\n",
    "    i = 3\n",
    "    while i * i <= n:\n",
    "        if n % i == 0:\n",
    "            return False\n",
    "        i += 2\n",
    "    return True\n",
    "\n",
    "print(is_prime(6))"
   ]
  },
  {
   "cell_type": "markdown",
   "metadata": {},
   "source": [
    "### Check Palindrome both num and its Binary"
   ]
  },
  {
   "cell_type": "code",
   "execution_count": 36,
   "metadata": {},
   "outputs": [
    {
     "name": "stdout",
     "output_type": "stream",
     "text": [
      "[313, 585, 717]\n"
     ]
    }
   ],
   "source": [
    "def is_palindrome(number):\n",
    "    if str(number) != str(number)[::-1]:\n",
    "        return False\n",
    "    bin_number = bin(number)[2:]\n",
    "    return bin_number == bin_number[::-1]\n",
    "\n",
    "def calculate():\n",
    "    return [i for i in range(100, 1000) if is_palindrome(i)]\n",
    "\n",
    "print(calculate())"
   ]
  },
  {
   "cell_type": "markdown",
   "metadata": {},
   "source": [
    "### number or characters and its repeated frequency "
   ]
  },
  {
   "cell_type": "code",
   "execution_count": 55,
   "metadata": {},
   "outputs": [
    {
     "name": "stdout",
     "output_type": "stream",
     "text": [
      "[('1', 1), ('7', 4), ('8', 1), ('0', 2), ('7', 2)]\n",
      "[('R', 1), ('o', 1), ('R', 2), ('h', 1), ('i', 1), ('t', 1), ('R', 1)]\n",
      "[('1', 1), ('0', 1)]\n"
     ]
    }
   ],
   "source": [
    "from itertools import groupby\n",
    "\n",
    "\n",
    "def compress(number):\n",
    "    result = []\n",
    "    for key, group in groupby(str(number)):\n",
    "        result.append((key, len(list(group))))\n",
    "    return result\n",
    "\n",
    "print(compress(1777780077))\n",
    "\n",
    "def compress_string(string):\n",
    "    result = []\n",
    "    for key, group in groupby(str(string)):\n",
    "        result.append((key, len(list(group))))\n",
    "    return result\n",
    "\n",
    "print(compress_string(\"RoRRhitR\"))\n",
    "\n",
    "def compress_list_comprehension(number):\n",
    "    return [(key, len(list(group))) for key, group in groupby(str(number))]\n",
    "\n",
    "print(compress_list_comprehension(10))\n"
   ]
  },
  {
   "cell_type": "markdown",
   "metadata": {},
   "source": [
    "### Hamming Distance"
   ]
  },
  {
   "cell_type": "code",
   "execution_count": 74,
   "metadata": {},
   "outputs": [
    {
     "name": "stdout",
     "output_type": "stream",
     "text": [
      "2\n"
     ]
    }
   ],
   "source": [
    "def hamming_distance(u, v):\n",
    "    if len(u) != len(v):\n",
    "        raise ValueError('Both vectors must be the same length.')\n",
    "    distance = 0\n",
    "    for i in range(len(u)):\n",
    "        if u[i] != v[i]:\n",
    "            distance += 1\n",
    "    return distance\n",
    "print(hamming_distance('109','200'))"
   ]
  },
  {
   "cell_type": "code",
   "execution_count": 84,
   "metadata": {},
   "outputs": [
    {
     "name": "stdout",
     "output_type": "stream",
     "text": [
      "14\n"
     ]
    }
   ],
   "source": [
    "from collections import ChainMap\n",
    "\n",
    "\n",
    "english_scoreboard = {\n",
    "    ' ': 0,\n",
    "    'EAIONRTLSU': 1,\n",
    "    'DG': 2,\n",
    "    'BCMP': 3,\n",
    "    'FHVWY': 4,\n",
    "    'K': 5,\n",
    "    'JX': 8,\n",
    "    'QZ': 10\n",
    "}\n",
    "\n",
    "\n",
    "def score(word):\n",
    "    scores = ChainMap(*[dict.fromkeys(letter, score)\n",
    "                        for letter, score in english_scoreboard.items()])\n",
    "    return sum([scores[letter.upper()] for letter in word])\n",
    "\n",
    "print(score(\"AAAZA\"))"
   ]
  }
 ],
 "metadata": {
  "kernelspec": {
   "display_name": "pythonenv",
   "language": "python",
   "name": "python3"
  },
  "language_info": {
   "codemirror_mode": {
    "name": "ipython",
    "version": 3
   },
   "file_extension": ".py",
   "mimetype": "text/x-python",
   "name": "python",
   "nbconvert_exporter": "python",
   "pygments_lexer": "ipython3",
   "version": "3.11.2"
  },
  "orig_nbformat": 4
 },
 "nbformat": 4,
 "nbformat_minor": 2
}
