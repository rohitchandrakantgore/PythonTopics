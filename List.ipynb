{
 "cells": [
  {
   "attachments": {},
   "cell_type": "markdown",
   "metadata": {},
   "source": [
    "# List\n",
    "    Sequence data type.\n",
    "    Store the collection of data. \n",
    "    Insertion order Preserved.\n",
    "    Duplicates allowed.\n",
    "    Heterogenous objects allowed.\n",
    "    Dynamic in Size.\n",
    "    Elements placed in **[]** square brackets with comma seperator.\n",
    "    Mutable."
   ]
  },
  {
   "cell_type": "code",
   "execution_count": 3,
   "metadata": {},
   "outputs": [
    {
     "name": "stdout",
     "output_type": "stream",
     "text": [
      "[]\n",
      "['Abx', 231, 'sa']\n",
      "<class 'list'>\n"
     ]
    }
   ],
   "source": [
    "name =[]\n",
    "print(name)\n",
    "name2= [\"Abx\", 231, \"sa\"]\n",
    "print(name2)\n",
    "print(type(name2))"
   ]
  },
  {
   "cell_type": "code",
   "execution_count": 7,
   "metadata": {},
   "outputs": [
    {
     "name": "stdout",
     "output_type": "stream",
     "text": [
      "(231, 32, 43)\n"
     ]
    }
   ],
   "source": [
    "list= eval(input(\"Enter Elements: \"))\n",
    "print(list)"
   ]
  },
  {
   "cell_type": "code",
   "execution_count": 1,
   "metadata": {},
   "outputs": [
    {
     "name": "stdout",
     "output_type": "stream",
     "text": [
      "[0, 1, 2, 3, 4, 5, 6, 7, 8, 9]\n"
     ]
    }
   ],
   "source": [
    "lis_= list(range(0,10))\n",
    "print(lis_)"
   ]
  },
  {
   "cell_type": "code",
   "execution_count": 8,
   "metadata": {},
   "outputs": [
    {
     "name": "stdout",
     "output_type": "stream",
     "text": [
      "['Rohit', 'Gore']\n"
     ]
    }
   ],
   "source": [
    "name = \"Rohit Gore\"\n",
    "li = name.split()\n",
    "print(li)"
   ]
  },
  {
   "attachments": {},
   "cell_type": "markdown",
   "metadata": {},
   "source": [
    "## Accessing Elements of List\n",
    "    > By Using Index\n",
    "        list follows zero based index. i.e. first element is zero.\n",
    "        list supports both +ve and -ve indexes.\n",
    "        +ve meant for left to right.\n",
    "        -ve meant for right to left."
   ]
  },
  {
   "cell_type": "code",
   "execution_count": 9,
   "metadata": {},
   "outputs": [
    {
     "name": "stdout",
     "output_type": "stream",
     "text": [
      "10\n",
      "40\n",
      "50\n"
     ]
    }
   ],
   "source": [
    "demo_list = [10,20,30,40,50]\n",
    "print(demo_list[0])\n",
    "print(demo_list[3])\n",
    "print(demo_list[-1])"
   ]
  },
  {
   "attachments": {},
   "cell_type": "markdown",
   "metadata": {},
   "source": [
    "    > By Using Slice Operators\n",
    "        **syntax** -> list[start:stop:step]\n",
    "        start -> where slice has to start, default 0\n",
    "        stop -> where slice has to end, defalut len(list)\n",
    "        step -> increment value, defalut 1\n"
   ]
  },
  {
   "cell_type": "code",
   "execution_count": 15,
   "metadata": {},
   "outputs": [
    {
     "name": "stdout",
     "output_type": "stream",
     "text": [
      "[1, 2, 3, 4, 5, 7, 89, 9]\n",
      "[1, 3, 5]\n",
      "[5, 7, 89, 9]\n",
      "[9, 89, 7]\n"
     ]
    }
   ],
   "source": [
    "demo_list = [1,2,3,4,5,7,89,9]\n",
    "print(demo_list)\n",
    "print(demo_list[0:5:2])\n",
    "print(demo_list[4:])\n",
    "print(demo_list[8:4:-1])"
   ]
  },
  {
   "attachments": {},
   "cell_type": "markdown",
   "metadata": {},
   "source": [
    "## Traversing Elements of List"
   ]
  },
  {
   "cell_type": "code",
   "execution_count": 2,
   "metadata": {},
   "outputs": [
    {
     "name": "stdout",
     "output_type": "stream",
     "text": [
      "1\n",
      "2\n",
      "3\n",
      "4\n",
      "5\n",
      "675\n",
      "87\n",
      "2\n",
      "1\n",
      "2\n",
      "3\n",
      "4\n",
      "5\n",
      "675\n",
      "87\n",
      "2\n"
     ]
    }
   ],
   "source": [
    "li = [1,2,3,4,5,675,87,2]\n",
    "\n",
    "#While Loop\n",
    "i=0\n",
    "while i<(len(li)):\n",
    "    print(li[i])\n",
    "    i+=1   \n",
    "\n",
    "#For Loop\n",
    "for ele in li:\n",
    "    print(ele) "
   ]
  },
  {
   "attachments": {},
   "cell_type": "markdown",
   "metadata": {},
   "source": [
    "## List Functions"
   ]
  },
  {
   "cell_type": "code",
   "execution_count": 11,
   "metadata": {},
   "outputs": [
    {
     "name": "stdout",
     "output_type": "stream",
     "text": [
      "['__add__', '__class__', '__class_getitem__', '__contains__', '__delattr__', '__delitem__', '__dir__', '__doc__', '__eq__', '__format__', '__ge__', '__getattribute__', '__getitem__', '__getstate__', '__gt__', '__hash__', '__iadd__', '__imul__', '__init__', '__init_subclass__', '__iter__', '__le__', '__len__', '__lt__', '__mul__', '__ne__', '__new__', '__reduce__', '__reduce_ex__', '__repr__', '__reversed__', '__rmul__', '__setattr__', '__setitem__', '__sizeof__', '__str__', '__subclasshook__', 'append', 'clear', 'copy', 'count', 'extend', 'index', 'insert', 'pop', 'remove', 'reverse', 'sort']\n"
     ]
    }
   ],
   "source": [
    "list_ex = [1,2,432,54,65,87,76,1]\n",
    "print(dir(list_ex))"
   ]
  },
  {
   "cell_type": "code",
   "execution_count": 12,
   "metadata": {},
   "outputs": [
    {
     "name": "stdout",
     "output_type": "stream",
     "text": [
      "8\n",
      "2\n",
      "0\n",
      "0\n"
     ]
    },
    {
     "ename": "ValueError",
     "evalue": "110 is not in list",
     "output_type": "error",
     "traceback": [
      "\u001b[1;31m---------------------------------------------------------------------------\u001b[0m",
      "\u001b[1;31mValueError\u001b[0m                                Traceback (most recent call last)",
      "Cell \u001b[1;32mIn[12], line 8\u001b[0m\n\u001b[0;32m      4\u001b[0m \u001b[39mprint\u001b[39m(list_ex\u001b[39m.\u001b[39mcount(\u001b[39m110\u001b[39m)) \u001b[39m# return 0 if not found\u001b[39;00m\n\u001b[0;32m      7\u001b[0m \u001b[39mprint\u001b[39m(list_ex\u001b[39m.\u001b[39mindex(\u001b[39m1\u001b[39m)) \u001b[39m# to get particular elements index in list\u001b[39;00m\n\u001b[1;32m----> 8\u001b[0m \u001b[39mprint\u001b[39m(list_ex\u001b[39m.\u001b[39;49mindex(\u001b[39m110\u001b[39;49m)) \u001b[39m# throws Exception - Value Error - Not in List\u001b[39;00m\n",
      "\u001b[1;31mValueError\u001b[0m: 110 is not in list"
     ]
    }
   ],
   "source": [
    "print(len(list_ex))  # to get the length of list\\\n",
    "\n",
    "print(list_ex.count(1)) # to get particular elements no of occarnace in list\n",
    "print(list_ex.count(110)) # return 0 if not found\n",
    "\n",
    "\n",
    "print(list_ex.index(1)) # to get particular elements index in list, returns first occurance \n",
    "print(list_ex.index(110)) # throws Exception - Value Error - Not in List"
   ]
  },
  {
   "cell_type": "code",
   "execution_count": 2,
   "metadata": {},
   "outputs": [
    {
     "name": "stdout",
     "output_type": "stream",
     "text": [
      "[1, 2, 432, 54, 65, 87, 76, 1, 10000]\n",
      "[1, 2, 432, 3000, 54, 65, 87, 76, 1, 10000]\n",
      "[1, 2, 432, 3000, 54, 65, 87, 76, 1, 10000, 21]\n",
      "[2, 432, 3000, 54, 65, 87, 76, 1, 10000, 21]\n",
      "21\n",
      "[2, 432, 3000, 54, 65, 87, 76, 1, 10000]\n"
     ]
    }
   ],
   "source": [
    "list_ex = [1,2,432,54,65,87,76,1]\n",
    "list_ex.append(10000) # to add item at end of the list\n",
    "print(list_ex)\n",
    "\n",
    "list_ex.insert(3,3000)# to insert item at specified index position (position,item)\n",
    "print(list_ex)\n",
    "\n",
    "list_ex.extend([21]) # to all items of one list to another\n",
    "print(list_ex)\n",
    "\n",
    "list_ex.remove(1) # to remove specific item from list, if item present for multiple times then first occurred item will be removed\n",
    "print(list_ex)\n",
    "\n",
    "last=list_ex.pop() # it removes an returns the last element from list\n",
    "print(last)\n",
    "print(list_ex)"
   ]
  },
  {
   "attachments": {},
   "cell_type": "markdown",
   "metadata": {},
   "source": [
    "#### Ordering ELements of List"
   ]
  },
  {
   "cell_type": "code",
   "execution_count": 5,
   "metadata": {},
   "outputs": [
    {
     "name": "stdout",
     "output_type": "stream",
     "text": [
      "[1, 76, 87, 65, 54, 432, 2, 1]\n"
     ]
    }
   ],
   "source": [
    "# Reverse\n",
    "\n",
    "list_ex = [1,2,432,54,65,87,76,1]\n",
    "list_ex.reverse()\n",
    "print(list_ex)"
   ]
  },
  {
   "cell_type": "code",
   "execution_count": 8,
   "metadata": {},
   "outputs": [
    {
     "name": "stdout",
     "output_type": "stream",
     "text": [
      "[1, 1, 2, 54, 65, 76, 87, 432]\n",
      "[432, 87, 76, 65, 54, 2, 1, 1]\n"
     ]
    },
    {
     "ename": "TypeError",
     "evalue": "'<' not supported between instances of 'str' and 'int'",
     "output_type": "error",
     "traceback": [
      "\u001b[1;31m---------------------------------------------------------------------------\u001b[0m",
      "\u001b[1;31mTypeError\u001b[0m                                 Traceback (most recent call last)",
      "Cell \u001b[1;32mIn[8], line 12\u001b[0m\n\u001b[0;32m      8\u001b[0m \u001b[39mprint\u001b[39m(list_ex)\n\u001b[0;32m     11\u001b[0m list_ex \u001b[39m=\u001b[39m [\u001b[39m1\u001b[39m,\u001b[39m2\u001b[39m,\u001b[39m432\u001b[39m,\u001b[39m54\u001b[39m,\u001b[39m65\u001b[39m,\u001b[39m87\u001b[39m,\u001b[39m76\u001b[39m,\u001b[39m\"\u001b[39m\u001b[39mA\u001b[39m\u001b[39m\"\u001b[39m]\n\u001b[1;32m---> 12\u001b[0m list_ex\u001b[39m.\u001b[39;49msort()\n\u001b[0;32m     13\u001b[0m \u001b[39mprint\u001b[39m(list_ex)\n",
      "\u001b[1;31mTypeError\u001b[0m: '<' not supported between instances of 'str' and 'int'"
     ]
    }
   ],
   "source": [
    "# Sort\n",
    "list_ex = [1,2,432,54,65,87,76,1]\n",
    "\n",
    "list_ex.sort()\n",
    "print(list_ex)\n",
    "\n",
    "list_ex.sort(reverse=True)\n",
    "print(list_ex)\n",
    "\n",
    "\n",
    "list_ex = [1,2,432,54,65,87,76,\"A\"]\n",
    "list_ex.sort() # only work with homogeneous elements\n",
    "print(list_ex)"
   ]
  },
  {
   "attachments": {},
   "cell_type": "markdown",
   "metadata": {},
   "source": [
    "#### Aliasing and Cloning of List"
   ]
  },
  {
   "cell_type": "code",
   "execution_count": 9,
   "metadata": {},
   "outputs": [
    {
     "name": "stdout",
     "output_type": "stream",
     "text": [
      "[1, 2, 432, 54, 65, 87, 76, 1]\n",
      "[1, 2, 432, 54, 65, 87, 76, 1]\n",
      "[1, 1000, 432, 54, 65, 87, 76, 1]\n",
      "[1, 1000, 432, 54, 65, 87, 76, 1]\n"
     ]
    }
   ],
   "source": [
    "# Issue\n",
    "list_ex = [1,2,432,54,65,87,76,1]\n",
    "list_ex_2 = list_ex\n",
    "\n",
    "print(list_ex)\n",
    "print(list_ex_2)\n",
    "\n",
    "list_ex_2[1]= 1000\n",
    "\n",
    "print(list_ex)\n",
    "print(list_ex_2)"
   ]
  },
  {
   "cell_type": "code",
   "execution_count": 12,
   "metadata": {},
   "outputs": [
    {
     "name": "stdout",
     "output_type": "stream",
     "text": [
      "[1, 2, 432, 54, 65, 87, 76, 1]\n",
      "[1, 2, 432, 54, 65, 87, 76, 1]\n",
      "[1, 2, 432, 54, 65, 87, 76, 1]\n",
      "[1, 1000, 432, 54, 65, 87, 76, 1]\n",
      "\n",
      "[1, 2, 432, 54, 65, 87, 76, 1]\n",
      "[1, 2, 432, 54, 65, 87, 76, 1]\n",
      "[1, 2, 432, 54, 65, 87, 76, 1]\n",
      "[1, 1000, 432, 54, 65, 87, 76, 1]\n"
     ]
    }
   ],
   "source": [
    "# to overcome the above we have two methos\n",
    "\n",
    "# 1. by Using Slice Operator\n",
    "list_ex = [1,2,432,54,65,87,76,1]\n",
    "list_ex_2 = list_ex[:]\n",
    "\n",
    "print(list_ex)\n",
    "print(list_ex_2)\n",
    "\n",
    "list_ex_2[1]= 1000\n",
    "\n",
    "print(list_ex)\n",
    "print(list_ex_2)\n",
    "\n",
    "# 2. By Using Copy() Function\n",
    "print()\n",
    "list_ex = [1,2,432,54,65,87,76,1]\n",
    "list_ex_2 = list_ex.copy()\n",
    "\n",
    "print(list_ex)\n",
    "print(list_ex_2)\n",
    "\n",
    "list_ex_2[1]= 1000\n",
    "\n",
    "print(list_ex)\n",
    "print(list_ex_2)"
   ]
  },
  {
   "attachments": {},
   "cell_type": "markdown",
   "metadata": {},
   "source": [
    "#### Mathematical Operator with List"
   ]
  },
  {
   "cell_type": "code",
   "execution_count": 13,
   "metadata": {},
   "outputs": [
    {
     "name": "stdout",
     "output_type": "stream",
     "text": [
      "[10, 20, 30, 10, 20, 30]\n",
      "[10, 20, 30, 10, 20]\n"
     ]
    }
   ],
   "source": [
    "# Concat + Operator\n",
    "a=[10,20,30]\n",
    "b=[10,20,30]\n",
    "c=[10,20]\n",
    "\n",
    "print(a+b)\n",
    "print(b+c)"
   ]
  },
  {
   "cell_type": "code",
   "execution_count": 14,
   "metadata": {},
   "outputs": [
    {
     "name": "stdout",
     "output_type": "stream",
     "text": [
      "[10, 20, 30, 10, 20, 30, 10, 20, 30]\n"
     ]
    }
   ],
   "source": [
    "# Repetition Operator *\n",
    "a=[10,20,30]\n",
    "print(a*3)"
   ]
  },
  {
   "attachments": {},
   "cell_type": "markdown",
   "metadata": {},
   "source": [
    "#### Comapring List Objects"
   ]
  },
  {
   "cell_type": "code",
   "execution_count": 16,
   "metadata": {},
   "outputs": [
    {
     "name": "stdout",
     "output_type": "stream",
     "text": [
      "True\n",
      "False\n",
      "False\n"
     ]
    }
   ],
   "source": [
    "a = [\"A\",\"B\",\"C\"]\n",
    "b = [\"A\",\"B\",\"C\"]\n",
    "c = [\"a\",\"b\",\"c\"]\n",
    "d= [\"z\"]\n",
    "\n",
    "print(a==b)\n",
    "print(b==c)\n",
    "\n",
    "print(c==d)"
   ]
  },
  {
   "attachments": {},
   "cell_type": "markdown",
   "metadata": {},
   "source": [
    "#### Memebership Operator"
   ]
  },
  {
   "cell_type": "code",
   "execution_count": 17,
   "metadata": {},
   "outputs": [
    {
     "name": "stdout",
     "output_type": "stream",
     "text": [
      "True\n",
      "True\n"
     ]
    }
   ],
   "source": [
    "a = [\"A\",\"B\",\"C\"]\n",
    "\n",
    "print( \"A\" in a)\n",
    "print(\"z\" not in a)"
   ]
  },
  {
   "attachments": {},
   "cell_type": "markdown",
   "metadata": {},
   "source": [
    "#### Clear Function"
   ]
  },
  {
   "cell_type": "code",
   "execution_count": 18,
   "metadata": {},
   "outputs": [
    {
     "name": "stdout",
     "output_type": "stream",
     "text": [
      "[]\n"
     ]
    }
   ],
   "source": [
    "a = [10,20,30]\n",
    "a.clear()\n",
    "print(a)"
   ]
  },
  {
   "attachments": {},
   "cell_type": "markdown",
   "metadata": {},
   "source": [
    "#### Nested List"
   ]
  },
  {
   "cell_type": "code",
   "execution_count": 20,
   "metadata": {},
   "outputs": [
    {
     "name": "stdout",
     "output_type": "stream",
     "text": [
      "10\n",
      "30\n"
     ]
    }
   ],
   "source": [
    "a=[10,20,[30,40],50]\n",
    "\n",
    "print(a[0])\n",
    "print(a[2][0])"
   ]
  },
  {
   "attachments": {},
   "cell_type": "markdown",
   "metadata": {},
   "source": [
    "## List Comprehension\n",
    "    syntax      list= [expression for item in list if condition]"
   ]
  },
  {
   "cell_type": "code",
   "execution_count": 22,
   "metadata": {},
   "outputs": [
    {
     "name": "stdout",
     "output_type": "stream",
     "text": [
      "[1, 4, 9, 16, 25, 36, 49, 64, 81]\n",
      "[1, 3, 5, 7, 9]\n"
     ]
    }
   ],
   "source": [
    "# ex 1\n",
    "square_list = [x*x for x in range(1,10)]\n",
    "print(square_list)\n",
    "\n",
    "odd_list = [x for x in range(1,10) if x%2!=0]\n",
    "print(odd_list)"
   ]
  }
 ],
 "metadata": {
  "kernelspec": {
   "display_name": "pythonenv",
   "language": "python",
   "name": "python3"
  },
  "language_info": {
   "codemirror_mode": {
    "name": "ipython",
    "version": 3
   },
   "file_extension": ".py",
   "mimetype": "text/x-python",
   "name": "python",
   "nbconvert_exporter": "python",
   "pygments_lexer": "ipython3",
   "version": "3.11.2"
  },
  "orig_nbformat": 4
 },
 "nbformat": 4,
 "nbformat_minor": 2
}
