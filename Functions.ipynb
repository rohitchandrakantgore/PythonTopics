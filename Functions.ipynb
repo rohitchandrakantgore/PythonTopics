{
 "cells": [
  {
   "attachments": {},
   "cell_type": "markdown",
   "metadata": {},
   "source": [
    "# Functions"
   ]
  },
  {
   "attachments": {},
   "cell_type": "markdown",
   "metadata": {},
   "source": [
    "- bulit in functions->\n",
    "  - functions came along python ex. id(), type(), input(), eval() ect\n",
    "-   User Defined Functions->\n",
    "    - developed by programmers,\n",
    "    - syntax \n",
    "        - def fun_name(parameters):\n",
    "          - \"\"\"\n",
    "          - \"\"\"                    \n",
    "          - return result"
   ]
  },
  {
   "attachments": {},
   "cell_type": "markdown",
   "metadata": {},
   "source": [
    "### Parameters and Return Statement\n",
    "- inputs to functions\n",
    "- if function contains parameters, then at time of calling we have to provide values otherwise it throws TypeError \n",
    "- return returns the output to caller.\n",
    "- if we dont add return the deafult value of return in None"
   ]
  },
  {
   "attachments": {},
   "cell_type": "markdown",
   "metadata": {},
   "source": []
  },
  {
   "cell_type": "code",
   "execution_count": 1,
   "metadata": {},
   "outputs": [
    {
     "name": "stdout",
     "output_type": "stream",
     "text": [
      "25\n"
     ]
    },
    {
     "ename": "TypeError",
     "evalue": "squr() missing 1 required positional argument: 'no'",
     "output_type": "error",
     "traceback": [
      "\u001b[1;31m---------------------------------------------------------------------------\u001b[0m",
      "\u001b[1;31mTypeError\u001b[0m                                 Traceback (most recent call last)",
      "Cell \u001b[1;32mIn[1], line 4\u001b[0m\n\u001b[0;32m      2\u001b[0m     \u001b[39mreturn\u001b[39;00m no\u001b[39m*\u001b[39mno\n\u001b[0;32m      3\u001b[0m \u001b[39mprint\u001b[39m(squr(\u001b[39m5\u001b[39m))\n\u001b[1;32m----> 4\u001b[0m \u001b[39mprint\u001b[39m(squr())\n",
      "\u001b[1;31mTypeError\u001b[0m: squr() missing 1 required positional argument: 'no'"
     ]
    }
   ],
   "source": [
    "def squr(no):\n",
    "    return no*no\n",
    "print(squr(5))\n",
    "print(squr()) # TypeError: squr() missing 1 required positional argument: 'no'"
   ]
  },
  {
   "attachments": {},
   "cell_type": "markdown",
   "metadata": {},
   "source": [
    "#### Types of Argument\n",
    "-   Positional Arguments\n",
    "-   Keyword Arguments\n",
    "-   Default Arguments\n",
    "-   Variable Length Arguments\n",
    "-   Keyworded Varibale Length Arguments"
   ]
  },
  {
   "cell_type": "code",
   "execution_count": 1,
   "metadata": {},
   "outputs": [
    {
     "name": "stdout",
     "output_type": "stream",
     "text": [
      "-100\n",
      "100\n"
     ]
    }
   ],
   "source": [
    "# Positional Arguments - args order is important\n",
    "def sub(no1,no2):\n",
    "    return no1-no2\n",
    "print(sub(100,200))\n",
    "print(sub(200,100))"
   ]
  },
  {
   "cell_type": "code",
   "execution_count": 3,
   "metadata": {},
   "outputs": [
    {
     "name": "stdout",
     "output_type": "stream",
     "text": [
      "100\n"
     ]
    }
   ],
   "source": [
    "# Keyword Arguments - agrs order not important\n",
    "def sub(no1,no2):\n",
    "    return no1-no2\n",
    "print(sub(no2=100,no1=200))"
   ]
  },
  {
   "cell_type": "code",
   "execution_count": 5,
   "metadata": {},
   "outputs": [
    {
     "name": "stdout",
     "output_type": "stream",
     "text": [
      "950\n",
      "50\n"
     ]
    }
   ],
   "source": [
    "# default Arguments\n",
    "def sub(no1=100,no2=50):\n",
    "    return no1-no2\n",
    "print(sub(1000))\n",
    "print(sub())"
   ]
  },
  {
   "cell_type": "code",
   "execution_count": 9,
   "metadata": {},
   "outputs": [
    {
     "name": "stdout",
     "output_type": "stream",
     "text": [
      "<class 'tuple'> (1010, 100, 55, 10)\n",
      "1175\n",
      "<class 'tuple'> (10, 20, 30)\n",
      "60\n"
     ]
    }
   ],
   "source": [
    "# Variable length arguments -  internally presented as tuple\n",
    "\n",
    "def add(*no):\n",
    "    print(type(no), no)\n",
    "    result=0\n",
    "    for each in no:\n",
    "        result = result+each\n",
    "    return result\n",
    "print(add(1010,100,55,10))\n",
    "print(add(10,20,30))"
   ]
  },
  {
   "cell_type": "code",
   "execution_count": 2,
   "metadata": {},
   "outputs": [
    {
     "name": "stdout",
     "output_type": "stream",
     "text": [
      "name1 Abs\n",
      "name2 Bbsa\n",
      "None\n"
     ]
    }
   ],
   "source": [
    "# Keyworded Variable Length Arguments - internally represented as dictionary\n",
    "def student(**data):\n",
    "    for key,value in data.items():\n",
    "        print(key, value)\n",
    "\n",
    "print(student(name1=\"Abs\",name2=\"Bbsa\"))\n"
   ]
  },
  {
   "cell_type": "code",
   "execution_count": 3,
   "metadata": {},
   "outputs": [
    {
     "name": "stdout",
     "output_type": "stream",
     "text": [
      "arg1: Geeks\n",
      "arg2: for\n",
      "arg3: Geeks\n",
      "arg1: Geeks\n",
      "arg2: for\n",
      "arg3: Geeks\n"
     ]
    }
   ],
   "source": [
    "def myFun(arg1, arg2, arg3):\n",
    "    print(\"arg1:\", arg1)\n",
    "    print(\"arg2:\", arg2)\n",
    "    print(\"arg3:\", arg3)\n",
    " \n",
    " \n",
    "# Now we can use *args or **kwargs to\n",
    "# pass arguments to this function :\n",
    "args = (\"Geeks\", \"for\", \"Geeks\")\n",
    "myFun(*args)\n",
    " \n",
    "kwargs = {\"arg1\": \"Geeks\", \"arg2\": \"for\", \"arg3\": \"Geeks\"}\n",
    "myFun(**kwargs)"
   ]
  },
  {
   "attachments": {},
   "cell_type": "markdown",
   "metadata": {},
   "source": [
    "### Types of Variables\n",
    "-   global \n",
    "-   local"
   ]
  },
  {
   "cell_type": "code",
   "execution_count": 6,
   "metadata": {},
   "outputs": [
    {
     "name": "stdout",
     "output_type": "stream",
     "text": [
      "10\n",
      "20\n",
      "30\n",
      "30\n"
     ]
    }
   ],
   "source": [
    "a=10  # global variable\n",
    "def fun():\n",
    "    print(a)\n",
    "\n",
    "def fun2():\n",
    "    a=20 #local varibale\n",
    "    print(a)\n",
    "\n",
    "def fun3():\n",
    "    global a # global keyword \n",
    "    a=30 #local varibale\n",
    "    print(a)\n",
    "\n",
    "fun()\n",
    "fun2()\n",
    "fun3()\n",
    "fun()"
   ]
  },
  {
   "attachments": {},
   "cell_type": "markdown",
   "metadata": {},
   "source": [
    "### Recursive Functions\n",
    "- function that calls itself"
   ]
  },
  {
   "cell_type": "code",
   "execution_count": 7,
   "metadata": {},
   "outputs": [
    {
     "name": "stdout",
     "output_type": "stream",
     "text": [
      "factorial of  0  is  1\n",
      "factorial of  1  is  1\n",
      "factorial of  2  is  2\n",
      "factorial of  3  is  6\n",
      "factorial of  4  is  24\n",
      "factorial of  5  is  120\n",
      "factorial of  6  is  720\n",
      "factorial of  7  is  5040\n",
      "factorial of  8  is  40320\n",
      "factorial of  9  is  362880\n"
     ]
    }
   ],
   "source": [
    "# factorial program\n",
    "\n",
    "def get_factorial(n):\n",
    "    if n == 0:\n",
    "        result = 1\n",
    "    else:\n",
    "        result = n * get_factorial(n-1)\n",
    "    return result\n",
    "\n",
    "for i in range(10):\n",
    "    print(\"factorial of \",i , \" is \", get_factorial(i))"
   ]
  },
  {
   "attachments": {},
   "cell_type": "markdown",
   "metadata": {},
   "source": [
    "### Lambda Functions\n",
    "- lambda n : n*n\n",
    "- syntax   lambda aruguments_list:expression\n",
    "- used to write concise code so readabilty improves"
   ]
  },
  {
   "cell_type": "code",
   "execution_count": 9,
   "metadata": {},
   "outputs": [
    {
     "name": "stdout",
     "output_type": "stream",
     "text": [
      "30\n",
      "20\n"
     ]
    }
   ],
   "source": [
    "# simple \n",
    "sums = lambda a,b : a+b\n",
    "print(sums(10,20))\n",
    "\n",
    "# comaprision\n",
    "big =  lambda a,b: a if a>b else b\n",
    "print(big(10,20))"
   ]
  },
  {
   "attachments": {},
   "cell_type": "markdown",
   "metadata": {},
   "source": [
    "### Filter() Function\n",
    "- to filter values from given sequence i.e list, tuple,string on some condition\n",
    "- syntax   filter(function,sequence)"
   ]
  },
  {
   "cell_type": "code",
   "execution_count": 13,
   "metadata": {},
   "outputs": [
    {
     "name": "stdout",
     "output_type": "stream",
     "text": [
      "[0, 1, 2, 3, 4, 5, 6, 7, 8, 9, 10, 11, 12, 13, 14, 15, 16, 17, 18, 19]\n",
      "[0, 2, 4, 6, 8, 10, 12, 14, 16, 18]\n"
     ]
    }
   ],
   "source": [
    "nos = list(range(20))\n",
    "print(nos)\n",
    "even_nos = list(filter(lambda x:x%2==0,nos))\n",
    "print(even_nos)"
   ]
  },
  {
   "attachments": {},
   "cell_type": "markdown",
   "metadata": {},
   "source": [
    "### Map() Function\n",
    "-   to apply some functioanlity to each memeber to given sequence map() is used.\n",
    "-   syntex      map(function,sequence)"
   ]
  },
  {
   "cell_type": "code",
   "execution_count": 14,
   "metadata": {},
   "outputs": [
    {
     "name": "stdout",
     "output_type": "stream",
     "text": [
      "[0, 4, 16, 36, 64, 100, 144, 196, 256, 324]\n"
     ]
    }
   ],
   "source": [
    "nos = list(range(20))\n",
    "even_nos = list(filter(lambda x:x%2==0,nos))\n",
    "even_squres = list(map(lambda x: x*x ,even_nos))\n",
    "print(even_squres)\n"
   ]
  },
  {
   "attachments": {},
   "cell_type": "markdown",
   "metadata": {},
   "source": [
    "### Reduce() function\n",
    "-   to reduce sequence into single element by applying some function\n",
    "- syntax  reduce(function,sequence)"
   ]
  },
  {
   "cell_type": "code",
   "execution_count": 15,
   "metadata": {},
   "outputs": [
    {
     "name": "stdout",
     "output_type": "stream",
     "text": [
      "1140\n"
     ]
    }
   ],
   "source": [
    "from functools import reduce\n",
    "nos = list(range(20))\n",
    "even_nos = list(filter(lambda x:x%2==0,nos))\n",
    "even_squres = list(map(lambda x: x*x ,even_nos))\n",
    "all_addition = reduce(lambda x,y:x+y, even_squres)\n",
    "print(all_addition)"
   ]
  }
 ],
 "metadata": {
  "kernelspec": {
   "display_name": "pythonenv",
   "language": "python",
   "name": "python3"
  },
  "language_info": {
   "codemirror_mode": {
    "name": "ipython",
    "version": 3
   },
   "file_extension": ".py",
   "mimetype": "text/x-python",
   "name": "python",
   "nbconvert_exporter": "python",
   "pygments_lexer": "ipython3",
   "version": "3.11.2"
  },
  "orig_nbformat": 4
 },
 "nbformat": 4,
 "nbformat_minor": 2
}
