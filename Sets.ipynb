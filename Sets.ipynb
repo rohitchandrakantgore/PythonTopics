{
 "cells": [
  {
   "attachments": {},
   "cell_type": "markdown",
   "metadata": {},
   "source": [
    "# Set \n",
    "    -   group of unique objects as a single entity\n",
    "    -   duplicates not allowed\n",
    "    -   insertion order not preserved\n",
    "    -   indexing , slicing not allowed\n",
    "    -   objetcs are mutable\n",
    "    -   represent with {} curly braces and with comma seperator\n",
    "    -   can apply math operations like union, intersection, difference etc on set objects"
   ]
  },
  {
   "attachments": {},
   "cell_type": "markdown",
   "metadata": {},
   "source": [
    "### Creation Of Set"
   ]
  },
  {
   "cell_type": "code",
   "execution_count": 9,
   "metadata": {},
   "outputs": [
    {
     "name": "stdout",
     "output_type": "stream",
     "text": [
      "<class 'set'> {40, 10, 20, 30}\n",
      "{10, 20, 30} {32, 19, 30}\n",
      "{0, 1, 2, 3, 4, 5, 6, 7, 8, 9}\n",
      "<class 'dict'> <class 'set'>\n"
     ]
    }
   ],
   "source": [
    "# Typ1e1\n",
    "set1 = {10,20,30,40}\n",
    "print(type(set1), set1)\n",
    "\n",
    "#type 2\n",
    "list1 = [10,20,30]\n",
    "t = 19,30,32\n",
    "set2 = set(list1)\n",
    "set3 = set(t)\n",
    "print(set2, set3)\n",
    "\n",
    "#type 3\n",
    "set4= set(range(10))\n",
    "print(set4)\n",
    "\n",
    "# in case of empty set \n",
    "# type 4\n",
    "\n",
    "set5 ={} # it is dict\n",
    "set6 = set() # this is correct for empty set\n",
    "print(type(set5),type(set6))"
   ]
  },
  {
   "attachments": {},
   "cell_type": "markdown",
   "metadata": {},
   "source": [
    "### Functions of Set"
   ]
  },
  {
   "cell_type": "code",
   "execution_count": 13,
   "metadata": {},
   "outputs": [
    {
     "name": "stdout",
     "output_type": "stream",
     "text": [
      "{10, 20, 500, 30}\n"
     ]
    },
    {
     "ename": "TypeError",
     "evalue": "set.add() takes exactly one argument (2 given)",
     "output_type": "error",
     "traceback": [
      "\u001b[1;31m---------------------------------------------------------------------------\u001b[0m",
      "\u001b[1;31mTypeError\u001b[0m                                 Traceback (most recent call last)",
      "Cell \u001b[1;32mIn[13], line 6\u001b[0m\n\u001b[0;32m      3\u001b[0m set1\u001b[39m.\u001b[39madd(\u001b[39m500\u001b[39m)\n\u001b[0;32m      4\u001b[0m \u001b[39mprint\u001b[39m(set1)\n\u001b[1;32m----> 6\u001b[0m set1\u001b[39m.\u001b[39;49madd(\u001b[39m11\u001b[39;49m,\u001b[39m12\u001b[39;49m) \u001b[39m# TypeError - set.add() takes exactly one argument (2 given)\u001b[39;00m\n",
      "\u001b[1;31mTypeError\u001b[0m: set.add() takes exactly one argument (2 given)"
     ]
    }
   ],
   "source": [
    "# add - add item to set\n",
    "set1 = {10,20,30}\n",
    "set1.add(500)\n",
    "print(set1)\n",
    "\n",
    "set1.add(11,12) # TypeError - set.add() takes exactly one argument (2 given)"
   ]
  },
  {
   "cell_type": "code",
   "execution_count": 15,
   "metadata": {},
   "outputs": [
    {
     "name": "stdout",
     "output_type": "stream",
     "text": [
      "{33, 100, 101, 102, 103, 104, 105, 10, 11, 106, 107, 108, 109, 20, 22, 30}\n"
     ]
    },
    {
     "ename": "TypeError",
     "evalue": "'int' object is not iterable",
     "output_type": "error",
     "traceback": [
      "\u001b[1;31m---------------------------------------------------------------------------\u001b[0m",
      "\u001b[1;31mTypeError\u001b[0m                                 Traceback (most recent call last)",
      "Cell \u001b[1;32mIn[15], line 7\u001b[0m\n\u001b[0;32m      4\u001b[0m set1\u001b[39m.\u001b[39mupdate(list1, \u001b[39mrange\u001b[39m(\u001b[39m100\u001b[39m,\u001b[39m110\u001b[39m))\n\u001b[0;32m      5\u001b[0m \u001b[39mprint\u001b[39m(set1)\n\u001b[1;32m----> 7\u001b[0m set1\u001b[39m.\u001b[39;49mupdate(\u001b[39m10\u001b[39;49m) \u001b[39m# TypeError: 'int' object is not iterable\u001b[39;00m\n",
      "\u001b[1;31mTypeError\u001b[0m: 'int' object is not iterable"
     ]
    }
   ],
   "source": [
    "# update - add multiple item to set\n",
    "set1= {10,20,30}\n",
    "list1 = [11,22,33]\n",
    "set1.update(list1, range(100,110))\n",
    "print(set1)\n",
    "\n",
    "set1.update(10) # TypeError: 'int' object is not iterable"
   ]
  },
  {
   "cell_type": "code",
   "execution_count": 16,
   "metadata": {},
   "outputs": [
    {
     "name": "stdout",
     "output_type": "stream",
     "text": [
      "{10, 20, 30}\n"
     ]
    }
   ],
   "source": [
    "# copy - returns copy of the set , it is a cloned object.\n",
    "set1 = {10,20,30}\n",
    "set2 = set1.copy()\n",
    "print(set2)"
   ]
  },
  {
   "cell_type": "code",
   "execution_count": 28,
   "metadata": {},
   "outputs": [
    {
     "name": "stdout",
     "output_type": "stream",
     "text": [
      "50 {20, 40, 10, 60, 30}\n"
     ]
    }
   ],
   "source": [
    "# pop - removes and return some randome element from set\n",
    "set1 = {10,20,30,40,50,60}\n",
    "print(set1.pop(), set1)"
   ]
  },
  {
   "cell_type": "code",
   "execution_count": 30,
   "metadata": {},
   "outputs": [
    {
     "name": "stdout",
     "output_type": "stream",
     "text": [
      "{50, 20, 40, 10}\n"
     ]
    },
    {
     "ename": "KeyError",
     "evalue": "30",
     "output_type": "error",
     "traceback": [
      "\u001b[1;31m---------------------------------------------------------------------------\u001b[0m",
      "\u001b[1;31mKeyError\u001b[0m                                  Traceback (most recent call last)",
      "Cell \u001b[1;32mIn[30], line 6\u001b[0m\n\u001b[0;32m      4\u001b[0m set1\u001b[39m.\u001b[39mremove(\u001b[39m30\u001b[39m)\n\u001b[0;32m      5\u001b[0m \u001b[39mprint\u001b[39m(set1)\n\u001b[1;32m----> 6\u001b[0m set1\u001b[39m.\u001b[39;49mremove(\u001b[39m30\u001b[39;49m)\n\u001b[0;32m      7\u001b[0m \u001b[39mprint\u001b[39m(set1)\n",
      "\u001b[1;31mKeyError\u001b[0m: 30"
     ]
    }
   ],
   "source": [
    "# remove - removes specified element form the set, if element not present then returns KeyError\n",
    "\n",
    "set1 = {10,20,30,40,50}\n",
    "set1.remove(30)\n",
    "print(set1)\n",
    "set1.remove(30)\n",
    "print(set1)"
   ]
  },
  {
   "cell_type": "code",
   "execution_count": 32,
   "metadata": {},
   "outputs": [
    {
     "name": "stdout",
     "output_type": "stream",
     "text": [
      "{50, 20, 40, 10}\n",
      "{50, 20, 40, 10}\n"
     ]
    }
   ],
   "source": [
    "# discard - removes specified element form the set, if element not present then it wont return any error\n",
    "set1 = {10,20,30,40,50}\n",
    "set1.discard(30)\n",
    "print(set1)\n",
    "set1.discard(30)\n",
    "print(set1)"
   ]
  },
  {
   "cell_type": "code",
   "execution_count": 33,
   "metadata": {},
   "outputs": [
    {
     "name": "stdout",
     "output_type": "stream",
     "text": [
      "set()\n"
     ]
    }
   ],
   "source": [
    "# clear - removes all elements from set\n",
    "set1 = {10,20,30,40,50}\n",
    "set1.clear()\n",
    "print(set1)"
   ]
  },
  {
   "attachments": {},
   "cell_type": "markdown",
   "metadata": {},
   "source": [
    "### Mathmatical Operations on Set"
   ]
  },
  {
   "cell_type": "code",
   "execution_count": 34,
   "metadata": {},
   "outputs": [
    {
     "name": "stdout",
     "output_type": "stream",
     "text": [
      "{40, 10, 43, 12, 50, 20, 60, 30}\n",
      "{40, 10, 43, 12, 50, 20, 60, 30}\n"
     ]
    }
   ],
   "source": [
    "# union - x.union(y) or x|y  - returns all elements present in both sets\n",
    "set1 ={10,20,30,40,12,43}\n",
    "set2= {10,20,30,50,60}\n",
    "print(set1.union(set2))\n",
    "print(set1|set2)"
   ]
  },
  {
   "cell_type": "code",
   "execution_count": 36,
   "metadata": {},
   "outputs": [
    {
     "name": "stdout",
     "output_type": "stream",
     "text": [
      "{10, 20, 30}\n",
      "{10, 20, 30}\n"
     ]
    }
   ],
   "source": [
    "# intersection - x.itersection(y) or x&y - return common elements present in both\n",
    "set1 ={10,20,30,40,12,43}\n",
    "set2= {10,20,30,50,60}\n",
    "print(set1.intersection(set2))\n",
    "print(set1&set2)"
   ]
  },
  {
   "cell_type": "code",
   "execution_count": 37,
   "metadata": {},
   "outputs": [
    {
     "name": "stdout",
     "output_type": "stream",
     "text": [
      "{40, 43, 12}\n",
      "{40, 43, 12}\n"
     ]
    }
   ],
   "source": [
    "# difference - x.difference(y) or x-y - returns elements present in x but not in y\n",
    "\n",
    "set1 ={10,20,30,40,12,43}\n",
    "set2= {10,20,30,50,60}\n",
    "print(set1.difference(set2))\n",
    "print(set1-set2)"
   ]
  },
  {
   "cell_type": "code",
   "execution_count": 38,
   "metadata": {},
   "outputs": [
    {
     "name": "stdout",
     "output_type": "stream",
     "text": [
      "{50, 40, 43, 60, 12}\n",
      "{50, 40, 43, 60, 12}\n"
     ]
    }
   ],
   "source": [
    "# symmetric difference - x.symmetriv_difference(y) or x^y - returns elements present in either x or y but not in both\n",
    "\n",
    "set1 ={10,20,30,40,12,43}\n",
    "set2= {10,20,30,50,60}\n",
    "print(set1.symmetric_difference(set2))\n",
    "print(set1^set2)"
   ]
  },
  {
   "attachments": {},
   "cell_type": "markdown",
   "metadata": {},
   "source": [
    "### Membership Operators"
   ]
  },
  {
   "cell_type": "code",
   "execution_count": 39,
   "metadata": {},
   "outputs": [
    {
     "name": "stdout",
     "output_type": "stream",
     "text": [
      "False\n",
      "True\n"
     ]
    }
   ],
   "source": [
    "set1 ={10,20,30,40,12,43}\n",
    "print(10 not in set1)\n",
    "print(10 in set1)"
   ]
  },
  {
   "attachments": {},
   "cell_type": "markdown",
   "metadata": {},
   "source": [
    "### Set Comprehension"
   ]
  },
  {
   "cell_type": "code",
   "execution_count": 40,
   "metadata": {},
   "outputs": [
    {
     "name": "stdout",
     "output_type": "stream",
     "text": [
      "{0, 1, 4, 9, 16}\n"
     ]
    }
   ],
   "source": [
    "set_square = {x*x for x in range(5)}\n",
    "print(set_square)"
   ]
  },
  {
   "attachments": {},
   "cell_type": "markdown",
   "metadata": {},
   "source": [
    "### Programs"
   ]
  },
  {
   "cell_type": "code",
   "execution_count": 42,
   "metadata": {},
   "outputs": [
    {
     "name": "stdout",
     "output_type": "stream",
     "text": [
      "{'r', 'R', ' ', 'i', 'e', 'o', 'G', 'h', 't'}\n",
      "{'o', 'i', 'e'}\n"
     ]
    }
   ],
   "source": [
    "# print different vowels present in word\n",
    "set_name = set(\"Rohit Gore\")\n",
    "print(set_name)\n",
    "vowels = ('a','e','i','o','u')\n",
    "differ = set_name.intersection(vowels)\n",
    "print(differ)"
   ]
  }
 ],
 "metadata": {
  "kernelspec": {
   "display_name": "Python 3",
   "language": "python",
   "name": "python3"
  },
  "language_info": {
   "codemirror_mode": {
    "name": "ipython",
    "version": 3
   },
   "file_extension": ".py",
   "mimetype": "text/x-python",
   "name": "python",
   "nbconvert_exporter": "python",
   "pygments_lexer": "ipython3",
   "version": "3.11.2"
  },
  "orig_nbformat": 4
 },
 "nbformat": 4,
 "nbformat_minor": 2
}
