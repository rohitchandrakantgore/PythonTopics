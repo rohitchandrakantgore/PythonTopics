{
 "cells": [
  {
   "attachments": {},
   "cell_type": "markdown",
   "metadata": {},
   "source": [
    "-   Same as List except it is immutable i.e. cannot perform any changes in the object\n",
    "-   Read Only Version of List\n",
    "-   Insertion Order Preserved\n",
    "-   Duplicates Allowed\n",
    "-   Heterogenous Objects Allowed\n",
    "-   represent within ***parenethesis ()*** with comma seperator.\n",
    "-   parenthesis optional"
   ]
  },
  {
   "cell_type": "code",
   "execution_count": 2,
   "metadata": {},
   "outputs": [
    {
     "name": "stdout",
     "output_type": "stream",
     "text": [
      "(10, 20, 30, 40) (10, 20, 30, 40)\n",
      "<class 'tuple'> <class 'tuple'>\n",
      "<class 'int'> <class 'tuple'>\n"
     ]
    }
   ],
   "source": [
    "# parenthesis optional\n",
    "\n",
    "t1 = (10,20,30,40)\n",
    "t2 = 10,20,30,40\n",
    "\n",
    "print(t1,t2)\n",
    "print(type(t1),type(t2))\n",
    "\n",
    "#single valued tuple value should end with comma\n",
    "t3= 10\n",
    "t4= 10,\n",
    "\n",
    "print(type(t3), type(t4))"
   ]
  },
  {
   "cell_type": "code",
   "execution_count": 3,
   "metadata": {},
   "outputs": [
    {
     "name": "stdout",
     "output_type": "stream",
     "text": [
      "<class 'tuple'> <class 'tuple'> <class 'tuple'> <class 'tuple'>\n"
     ]
    }
   ],
   "source": [
    "#Tuple Creation\n",
    "t1=()\n",
    "t2=(10,20,30)\n",
    "t3= 10 , 20 , 30\n",
    "lis = [10,20,30]\n",
    "t4 = tuple(lis)\n",
    "\n",
    "print(type(t1),type(t2),type(t3),type(t4))"
   ]
  },
  {
   "attachments": {},
   "cell_type": "markdown",
   "metadata": {},
   "source": [
    "## Accesing Elements of Tuple"
   ]
  },
  {
   "cell_type": "code",
   "execution_count": 5,
   "metadata": {},
   "outputs": [
    {
     "name": "stdout",
     "output_type": "stream",
     "text": [
      "10\n",
      "40\n",
      "(20, 30)\n"
     ]
    }
   ],
   "source": [
    "tup = (10,20,30,40)\n",
    "\n",
    "# By Using Index\n",
    "print(tup[0])\n",
    "print(tup[-1])\n",
    "\n",
    "# By Using Slice Operator\n",
    "print(tup[1:3])"
   ]
  },
  {
   "attachments": {},
   "cell_type": "markdown",
   "metadata": {},
   "source": [
    "## Mathematical Operators for Tuple"
   ]
  },
  {
   "cell_type": "code",
   "execution_count": 7,
   "metadata": {},
   "outputs": [
    {
     "name": "stdout",
     "output_type": "stream",
     "text": [
      "(10, 20, 30, 40)\n",
      "(10, 20, 10, 20, 10, 20)\n"
     ]
    }
   ],
   "source": [
    "t1 = (10,20)\n",
    "t2 = (30,40)\n",
    "\n",
    "# Concat + operator\n",
    "print(t1+t2)\n",
    "\n",
    "\n",
    "# Repetition Operator *\n",
    "\n",
    "print(t1*3)"
   ]
  },
  {
   "attachments": {},
   "cell_type": "markdown",
   "metadata": {},
   "source": [
    "## Important Functions Of Tuple"
   ]
  },
  {
   "cell_type": "code",
   "execution_count": 14,
   "metadata": {},
   "outputs": [
    {
     "name": "stdout",
     "output_type": "stream",
     "text": [
      "6\n",
      "2\n",
      "0\n",
      "[10, 10, 20, 20, 30, 40]\n",
      "10\n",
      "40\n"
     ]
    }
   ],
   "source": [
    "t = (10,20,30,40,10,20)\n",
    "\n",
    "# Length\n",
    "print(len(t))\n",
    "\n",
    "# count - no of occurrences of given item in tuple\n",
    "print(t.count(10))\n",
    "\n",
    "#index - return first occurrence of given item in tuple\n",
    "print(t.index(10))\n",
    "\n",
    "#sorted - sort based on default natural sorting order\n",
    "print(sorted(t))\n",
    "\n",
    "# Min() and Max()\n",
    "print(min(t))\n",
    "print(max(t))"
   ]
  },
  {
   "attachments": {},
   "cell_type": "markdown",
   "metadata": {},
   "source": [
    "### Tuple Packing And Unpacking"
   ]
  },
  {
   "cell_type": "code",
   "execution_count": 16,
   "metadata": {},
   "outputs": [
    {
     "name": "stdout",
     "output_type": "stream",
     "text": [
      "(10, 20, 30, 40)\n",
      "10 20 30 40\n"
     ]
    }
   ],
   "source": [
    "#Paacking\n",
    "a,b,c,d = 10,20,30,40\n",
    "t= a,b,c,d\n",
    "print(t)\n",
    "\n",
    "#unpacking\n",
    "a,b,c,d = t\n",
    "print(a,b,c,d)"
   ]
  }
 ],
 "metadata": {
  "kernelspec": {
   "display_name": "pythonenv",
   "language": "python",
   "name": "python3"
  },
  "language_info": {
   "codemirror_mode": {
    "name": "ipython",
    "version": 3
   },
   "file_extension": ".py",
   "mimetype": "text/x-python",
   "name": "python",
   "nbconvert_exporter": "python",
   "pygments_lexer": "ipython3",
   "version": "3.11.2"
  },
  "orig_nbformat": 4
 },
 "nbformat": 4,
 "nbformat_minor": 2
}
