{
 "cells": [
  {
   "cell_type": "markdown",
   "metadata": {},
   "source": [
    "# Tuple"
   ]
  },
  {
   "attachments": {},
   "cell_type": "markdown",
   "metadata": {},
   "source": [
    "-   Same as List except it is immutable i.e. cannot perform any changes in the object\n",
    "-   Read Only Version of List\n",
    "-   Insertion Order Preserved\n",
    "-   Duplicates Allowed\n",
    "-   Heterogenous Objects Allowed\n",
    "-   represent within ***parenethesis ()*** with comma seperator.\n",
    "-   parenthesis optional"
   ]
  },
  {
   "cell_type": "code",
   "execution_count": 2,
   "metadata": {},
   "outputs": [
    {
     "name": "stdout",
     "output_type": "stream",
     "text": [
      "(10, 20, 30, 40) (10, 20, 30, 40)\n",
      "<class 'tuple'> <class 'tuple'>\n",
      "<class 'int'> <class 'tuple'>\n"
     ]
    }
   ],
   "source": [
    "# parenthesis optional\n",
    "\n",
    "t1 = (10,20,30,40)\n",
    "t2 = 10,20,30,40\n",
    "\n",
    "print(t1,t2)\n",
    "print(type(t1),type(t2))\n",
    "\n",
    "#single valued tuple value should end with comma\n",
    "t3= 10\n",
    "t4= 10,\n",
    "\n",
    "print(type(t3), type(t4))"
   ]
  },
  {
   "cell_type": "code",
   "execution_count": 3,
   "metadata": {},
   "outputs": [
    {
     "name": "stdout",
     "output_type": "stream",
     "text": [
      "<class 'tuple'> <class 'tuple'> <class 'tuple'> <class 'tuple'>\n"
     ]
    }
   ],
   "source": [
    "#Tuple Creation\n",
    "t1=()\n",
    "t2=(10,20,30)\n",
    "t3= 10 , 20 , 30\n",
    "lis = [10,20,30]\n",
    "t4 = tuple(lis)\n",
    "\n",
    "print(type(t1),type(t2),type(t3),type(t4))"
   ]
  },
  {
   "attachments": {},
   "cell_type": "markdown",
   "metadata": {},
   "source": [
    "## Accesing Elements of Tuple"
   ]
  },
  {
   "cell_type": "code",
   "execution_count": 5,
   "metadata": {},
   "outputs": [
    {
     "name": "stdout",
     "output_type": "stream",
     "text": [
      "10\n",
      "40\n",
      "(20, 30)\n"
     ]
    }
   ],
   "source": [
    "tup = (10,20,30,40)\n",
    "\n",
    "# By Using Index\n",
    "print(tup[0])\n",
    "print(tup[-1])\n",
    "\n",
    "# By Using Slice Operator\n",
    "print(tup[1:3])"
   ]
  },
  {
   "attachments": {},
   "cell_type": "markdown",
   "metadata": {},
   "source": [
    "## Mathematical Operators for Tuple"
   ]
  },
  {
   "cell_type": "code",
   "execution_count": 7,
   "metadata": {},
   "outputs": [
    {
     "name": "stdout",
     "output_type": "stream",
     "text": [
      "(10, 20, 30, 40)\n",
      "(10, 20, 10, 20, 10, 20)\n"
     ]
    }
   ],
   "source": [
    "t1 = (10,20)\n",
    "t2 = (30,40)\n",
    "\n",
    "# Concat + operator\n",
    "print(t1+t2)\n",
    "\n",
    "\n",
    "# Repetition Operator *\n",
    "\n",
    "print(t1*3)"
   ]
  },
  {
   "attachments": {},
   "cell_type": "markdown",
   "metadata": {},
   "source": [
    "## Important Functions Of Tuple"
   ]
  },
  {
   "cell_type": "code",
   "execution_count": 14,
   "metadata": {},
   "outputs": [
    {
     "name": "stdout",
     "output_type": "stream",
     "text": [
      "6\n",
      "2\n",
      "0\n",
      "[10, 10, 20, 20, 30, 40]\n",
      "10\n",
      "40\n"
     ]
    }
   ],
   "source": [
    "t = (10,20,30,40,10,20)\n",
    "\n",
    "# Length\n",
    "print(len(t))\n",
    "\n",
    "# count - no of occurrences of given item in tuple\n",
    "print(t.count(10))\n",
    "\n",
    "#index - return first occurrence of given item in tuple\n",
    "print(t.index(10))\n",
    "\n",
    "#sorted - sort based on default natural sorting order\n",
    "print(sorted(t))\n",
    "\n",
    "# Min() and Max()\n",
    "print(min(t))\n",
    "print(max(t))"
   ]
  },
  {
   "attachments": {},
   "cell_type": "markdown",
   "metadata": {},
   "source": [
    "### Tuple Packing And Unpacking"
   ]
  },
  {
   "cell_type": "code",
   "execution_count": 16,
   "metadata": {},
   "outputs": [
    {
     "name": "stdout",
     "output_type": "stream",
     "text": [
      "(10, 20, 30, 40)\n",
      "10 20 30 40\n"
     ]
    }
   ],
   "source": [
    "#Paacking\n",
    "a,b,c,d = 10,20,30,40\n",
    "t= a,b,c,d\n",
    "print(t)\n",
    "\n",
    "#unpacking\n",
    "a,b,c,d = t\n",
    "print(a,b,c,d)"
   ]
  },
  {
   "cell_type": "markdown",
   "metadata": {},
   "source": [
    "## Problems on Tuples"
   ]
  },
  {
   "cell_type": "markdown",
   "metadata": {},
   "source": [
    "### Joining Tuples"
   ]
  },
  {
   "cell_type": "code",
   "execution_count": 2,
   "metadata": {},
   "outputs": [
    {
     "name": "stdout",
     "output_type": "stream",
     "text": [
      "[]\n",
      "[[5, 6]]\n",
      "[[5, 6, 7]]\n",
      "[[5, 6, 7, 8]]\n",
      "[[5, 6, 7, 8], [6, 10]]\n",
      "[(5, 6, 7, 8), (6, 10), (7, 13)]\n"
     ]
    }
   ],
   "source": [
    "test_list = [(5, 6), (5, 7), (5, 8), (6, 10), (7, 13)]\n",
    "\n",
    "res = []\n",
    "for sub in test_list:\n",
    "    print(res)\n",
    "    if res and res[-1][0] == sub[0]:\n",
    "        res[-1].extend(sub[1:])\n",
    "    else:\n",
    "        res.append([ele for ele in sub])\n",
    "res = list(map(tuple, res))\n",
    "print(res)"
   ]
  },
  {
   "cell_type": "code",
   "execution_count": 2,
   "metadata": {},
   "outputs": [
    {
     "name": "stdout",
     "output_type": "stream",
     "text": [
      "(5, 6, 5, 7)\n",
      "(5, 7, 5, 8)\n",
      "(5, 8, 6, 10)\n",
      "(6, 10, 7, 13)\n"
     ]
    },
    {
     "ename": "IndexError",
     "evalue": "list index out of range",
     "output_type": "error",
     "traceback": [
      "\u001b[1;31m---------------------------------------------------------------------------\u001b[0m",
      "\u001b[1;31mIndexError\u001b[0m                                Traceback (most recent call last)",
      "Cell \u001b[1;32mIn[2], line 3\u001b[0m\n\u001b[0;32m      1\u001b[0m test_list \u001b[39m=\u001b[39m [(\u001b[39m5\u001b[39m, \u001b[39m6\u001b[39m), (\u001b[39m5\u001b[39m, \u001b[39m7\u001b[39m), (\u001b[39m5\u001b[39m, \u001b[39m8\u001b[39m), (\u001b[39m6\u001b[39m, \u001b[39m10\u001b[39m), (\u001b[39m7\u001b[39m, \u001b[39m13\u001b[39m)]\n\u001b[0;32m      2\u001b[0m \u001b[39mfor\u001b[39;00m i \u001b[39min\u001b[39;00m \u001b[39mrange\u001b[39m(\u001b[39mlen\u001b[39m(test_list)):\n\u001b[1;32m----> 3\u001b[0m     new \u001b[39m=\u001b[39m test_list[i] \u001b[39m+\u001b[39m test_list[i\u001b[39m+\u001b[39;49m\u001b[39m1\u001b[39;49m]\n\u001b[0;32m      4\u001b[0m     \u001b[39mprint\u001b[39m(new)\n",
      "\u001b[1;31mIndexError\u001b[0m: list index out of range"
     ]
    }
   ],
   "source": [
    "test_list = [(5, 6), (5, 7), (5, 8), (6, 10), (7, 13)]\n",
    "for i in range(len(test_list)):\n",
    "    new = test_list[i] + test_list[i+1]\n",
    "    print(new)"
   ]
  },
  {
   "cell_type": "code",
   "execution_count": 6,
   "metadata": {},
   "outputs": [
    {
     "name": "stdout",
     "output_type": "stream",
     "text": [
      "('AAPL.US', 'IBM.US', 'MSFT.US', 'HD.US', 'GS.US', 'NKE.US')\n"
     ]
    }
   ],
   "source": [
    "dji1 = ('AAPL.US', 'IBM.US', 'MSFT.US')\n",
    "dji2 = ('HD.US', 'GS.US', 'NKE.US')\n",
    "result = dji1 + dji2\n",
    "print(result)"
   ]
  },
  {
   "cell_type": "code",
   "execution_count": 7,
   "metadata": {},
   "outputs": [
    {
     "name": "stdout",
     "output_type": "stream",
     "text": [
      "(('AAPL.US', 'IBM.US', 'MSFT.US'), ('HD.US', 'GS.US', 'NKE.US'))\n"
     ]
    }
   ],
   "source": [
    "dji1 = ('AAPL.US', 'IBM.US', 'MSFT.US')\n",
    "dji2 = ('HD.US', 'GS.US', 'NKE.US')\n",
    "result = (dji1, dji2)\n",
    "print(result)"
   ]
  },
  {
   "cell_type": "code",
   "execution_count": 8,
   "metadata": {},
   "outputs": [
    {
     "name": "stdout",
     "output_type": "stream",
     "text": [
      "(('Kate', 23), ('John', 26), ('Tom', 19))\n"
     ]
    }
   ],
   "source": [
    "members = (('Kate', 23), ('Tom', 19))\n",
    "members = (members[0], ('John', 26), members[1])\n",
    "print(members)"
   ]
  },
  {
   "cell_type": "code",
   "execution_count": 5,
   "metadata": {},
   "outputs": [
    {
     "name": "stdout",
     "output_type": "stream",
     "text": [
      "Number of occurrences: 2\n"
     ]
    }
   ],
   "source": [
    "default = ('YES', 'NO', 'NO', 'YES', 'NO')\n",
    "print(f\"Number of occurrences: {default.count('YES')}\")"
   ]
  },
  {
   "cell_type": "code",
   "execution_count": 4,
   "metadata": {},
   "outputs": [
    {
     "name": "stdout",
     "output_type": "stream",
     "text": [
      "('John', 'Michael', 'Monica', 'Tom')\n"
     ]
    }
   ],
   "source": [
    "names = ('Monica', 'Tom', 'John', 'Michael')\n",
    "sorted_names = tuple(sorted(names))\n",
    "print(sorted_names)"
   ]
  },
  {
   "cell_type": "code",
   "execution_count": 3,
   "metadata": {},
   "outputs": [
    {
     "name": "stdout",
     "output_type": "stream",
     "text": [
      "Ascending: (('John', 18), ('Monica', 19), ('Tom', 21))\n",
      "Descending: (('Tom', 21), ('Monica', 19), ('John', 18))\n"
     ]
    }
   ],
   "source": [
    "info = (('Monica', 19), ('Tom', 21), ('John', 18))\n",
    "asc = tuple(sorted(info, key=lambda item: item[1]))\n",
    "desc = tuple(sorted(info, key=lambda item: item[1], reverse=True))\n",
    "print(f'Ascending: {asc}')\n",
    "print(f'Descending: {desc}')\n"
   ]
  },
  {
   "cell_type": "code",
   "execution_count": 13,
   "metadata": {},
   "outputs": [
    {
     "name": "stdout",
     "output_type": "stream",
     "text": [
      "AAPL.US\n"
     ]
    }
   ],
   "source": [
    "stocks = (('Apple Inc', ('AAPL.US', 310)), ('Microsoft Corp', ('MSFT.US', 184)))\n",
    "print(stocks[0][1][0])"
   ]
  }
 ],
 "metadata": {
  "kernelspec": {
   "display_name": "pythonenv",
   "language": "python",
   "name": "python3"
  },
  "language_info": {
   "codemirror_mode": {
    "name": "ipython",
    "version": 3
   },
   "file_extension": ".py",
   "mimetype": "text/x-python",
   "name": "python",
   "nbconvert_exporter": "python",
   "pygments_lexer": "ipython3",
   "version": "3.11.2"
  },
  "orig_nbformat": 4
 },
 "nbformat": 4,
 "nbformat_minor": 2
}
