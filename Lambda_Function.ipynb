{
 "cells": [
  {
   "cell_type": "markdown",
   "metadata": {},
   "source": [
    "### Length of each string in list"
   ]
  },
  {
   "cell_type": "code",
   "execution_count": 2,
   "metadata": {},
   "outputs": [
    {
     "name": "stdout",
     "output_type": "stream",
     "text": [
      "[7, 7, 10]\n"
     ]
    }
   ],
   "source": [
    "stocks = ['playway', 'boombit', 'cd projekt']\n",
    "length = list(map(lambda stock: len(stock), stocks))\n",
    "print(length)"
   ]
  },
  {
   "cell_type": "code",
   "execution_count": 4,
   "metadata": {},
   "outputs": [
    {
     "name": "stdout",
     "output_type": "stream",
     "text": [
      "['boombit', 'cd projekt', 'playway']\n"
     ]
    }
   ],
   "source": [
    "def sort_list(items):\n",
    "    return sorted(items, key=lambda item: item[0])\n",
    "\n",
    "print(sort_list(['playway', 'boombit', 'cd projekt']))"
   ]
  },
  {
   "cell_type": "code",
   "execution_count": 5,
   "metadata": {},
   "outputs": [
    {
     "name": "stdout",
     "output_type": "stream",
     "text": [
      "[(1, 4), (3, 4), (2, 5), (6, 1)]\n"
     ]
    }
   ],
   "source": [
    "items = [(3, 4), (2, 5), (1, 4), (6, 1)]\n",
    "items.sort(key=lambda item: item[0]**2 + item[1]**2)\n",
    "print(items)"
   ]
  },
  {
   "cell_type": "code",
   "execution_count": 6,
   "metadata": {},
   "outputs": [
    {
     "name": "stdout",
     "output_type": "stream",
     "text": [
      "[{'index': 'sWIG80', 'name': 'BBT', 'price': 22}, {'index': 'mWIG40', 'name': 'TEN', 'price': 304}, {'index': 'mWIG40', 'name': 'PLW', 'price': 309}]\n"
     ]
    }
   ],
   "source": [
    "stocks = [\n",
    "    {'index': 'mWIG40', 'name': 'TEN', 'price': 304},\n",
    "    {'index': 'mWIG40', 'name': 'PLW', 'price': 309},\n",
    "    {'index': 'sWIG80', 'name': 'BBT', 'price': 22}\n",
    "]\n",
    "\n",
    "stocks.sort(key=lambda item: item['price'])\n",
    "print(stocks)"
   ]
  },
  {
   "cell_type": "code",
   "execution_count": 7,
   "metadata": {},
   "outputs": [
    {
     "name": "stdout",
     "output_type": "stream",
     "text": [
      "[{'index': 'mWIG40', 'name': 'TEN', 'price': 304}, {'index': 'mWIG40', 'name': 'PLW', 'price': 309}]\n"
     ]
    }
   ],
   "source": [
    "stocks = [\n",
    "    {'index': 'mWIG40', 'name': 'TEN', 'price': 304},\n",
    "    {'index': 'mWIG40', 'name': 'PLW', 'price': 309},\n",
    "    {'index': 'sWIG80', 'name': 'BBT', 'price': 22}\n",
    "]\n",
    "\n",
    "print(list(filter(lambda item: item['index'] == 'mWIG40', stocks)))"
   ]
  },
  {
   "cell_type": "code",
   "execution_count": 8,
   "metadata": {},
   "outputs": [
    {
     "name": "stdout",
     "output_type": "stream",
     "text": [
      "['P1', 'R2', 'D4', 'F6']\n"
     ]
    }
   ],
   "source": [
    "items = ['P-1', 'R-2', 'D-4', 'F-6']\n",
    "print(list(map(lambda item: item.replace('-', ''), items)))"
   ]
  },
  {
   "cell_type": "code",
   "execution_count": 9,
   "metadata": {},
   "outputs": [
    {
     "name": "stdout",
     "output_type": "stream",
     "text": [
      "[4, 0, 0, 2, 2]\n"
     ]
    }
   ],
   "source": [
    "num1 = [4, 2, 6, 2, 11]\n",
    "num2 = [5, 2, 3, 3, 9]\n",
    "\n",
    "print(list(map(lambda x, y: x % y, num1, num2)))"
   ]
  }
 ],
 "metadata": {
  "kernelspec": {
   "display_name": "pythonenv",
   "language": "python",
   "name": "python3"
  },
  "language_info": {
   "codemirror_mode": {
    "name": "ipython",
    "version": 3
   },
   "file_extension": ".py",
   "mimetype": "text/x-python",
   "name": "python",
   "nbconvert_exporter": "python",
   "pygments_lexer": "ipython3",
   "version": "3.11.2"
  },
  "orig_nbformat": 4
 },
 "nbformat": 4,
 "nbformat_minor": 2
}
