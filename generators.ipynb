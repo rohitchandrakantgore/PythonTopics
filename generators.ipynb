{
 "cells": [
  {
   "attachments": {},
   "cell_type": "markdown",
   "metadata": {},
   "source": [
    "# Generators"
   ]
  },
  {
   "attachments": {},
   "cell_type": "markdown",
   "metadata": {},
   "source": [
    "- Introduced with PEP 255\n",
    "- Generator functions are a special kind of function that return a lazy iterator. \n",
    "- These are objects that you can loop over like a list. \n",
    "> However, unlike lists, lazy iterators do not store their contents in memory.\n",
    "\n",
    "> it uses **yeild** keyword to return value"
   ]
  },
  {
   "cell_type": "code",
   "execution_count": 6,
   "metadata": {},
   "outputs": [
    {
     "name": "stdout",
     "output_type": "stream",
     "text": [
      "<class 'generator'>\n",
      "A\n",
      "B\n",
      "C\n"
     ]
    },
    {
     "ename": "StopIteration",
     "evalue": "",
     "output_type": "error",
     "traceback": [
      "\u001b[1;31m---------------------------------------------------------------------------\u001b[0m",
      "\u001b[1;31mStopIteration\u001b[0m                             Traceback (most recent call last)",
      "Cell \u001b[1;32mIn[6], line 13\u001b[0m\n\u001b[0;32m     11\u001b[0m \u001b[39mprint\u001b[39m(\u001b[39mnext\u001b[39m(g))  \u001b[39m#-> B\u001b[39;00m\n\u001b[0;32m     12\u001b[0m \u001b[39mprint\u001b[39m(\u001b[39mnext\u001b[39m(g))  \u001b[39m#-> C\u001b[39;00m\n\u001b[1;32m---> 13\u001b[0m \u001b[39mprint\u001b[39m(\u001b[39mnext\u001b[39;49m(g))  \u001b[39m#-> Exption - StopIteration\u001b[39;00m\n",
      "\u001b[1;31mStopIteration\u001b[0m: "
     ]
    }
   ],
   "source": [
    "#Example 1\n",
    "\n",
    "def myGenerator():\n",
    "    yield \"A\"\n",
    "    yield \"B\"\n",
    "    yield \"C\"\n",
    "\n",
    "g = myGenerator()\n",
    "print(type(g))  #-> class Generator\n",
    "print(next(g))  #-> A\n",
    "print(next(g))  #-> B\n",
    "print(next(g))  #-> C\n",
    "print(next(g))  #-> Exption - StopIteration"
   ]
  },
  {
   "attachments": {},
   "cell_type": "markdown",
   "metadata": {},
   "source": [
    "## Advantages \n",
    "    -   Easy to use as compared with class level iterators\n",
    "    -   improves memory utilization and performance\n",
    "    -   best suitable for reading data from large files\n",
    "    -   workds great in web scraping and crawling"
   ]
  },
  {
   "attachments": {},
   "cell_type": "markdown",
   "metadata": {},
   "source": [
    "# Generator Expression\n",
    "    shorter way of defining simple generator functions.\n",
    "    anonymous generator function\n",
    "    "
   ]
  },
  {
   "cell_type": "code",
   "execution_count": 1,
   "metadata": {},
   "outputs": [
    {
     "name": "stdout",
     "output_type": "stream",
     "text": [
      "0\n",
      "1\n",
      "4\n",
      "9\n",
      "16\n"
     ]
    }
   ],
   "source": [
    "squre = (x*x for x in range(5))\n",
    "print(next(squre)) #0\n",
    "print(next(squre)) #1                                            \n",
    "print(next(squre)) #4                                            \n",
    "print(next(squre)) #9                                            \n",
    "print(next(squre)) #16"
   ]
  }
 ],
 "metadata": {
  "kernelspec": {
   "display_name": "pythonenv",
   "language": "python",
   "name": "python3"
  },
  "language_info": {
   "codemirror_mode": {
    "name": "ipython",
    "version": 3
   },
   "file_extension": ".py",
   "mimetype": "text/x-python",
   "name": "python",
   "nbconvert_exporter": "python",
   "pygments_lexer": "ipython3",
   "version": "3.11.2"
  },
  "orig_nbformat": 4
 },
 "nbformat": 4,
 "nbformat_minor": 2
}
