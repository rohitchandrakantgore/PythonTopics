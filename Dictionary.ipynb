{
 "cells": [
  {
   "attachments": {},
   "cell_type": "markdown",
   "metadata": {},
   "source": [
    "# Dictionary\n",
    "    -   to represent group of objects as key-value pairs\n",
    "    -   duplicate keys are not allowed but values can be duplicates\n",
    "    -   heterogeneous objets allowed as both key and value\n",
    "    -   insertion order not preserved\n",
    "    -   mutable\n",
    "    -   dynamic in size\n",
    "    -   indexing and slicing not applicable"
   ]
  },
  {
   "attachments": {},
   "cell_type": "markdown",
   "metadata": {},
   "source": [
    "### Create Dictionary"
   ]
  },
  {
   "cell_type": "code",
   "execution_count": 2,
   "metadata": {},
   "outputs": [
    {
     "name": "stdout",
     "output_type": "stream",
     "text": [
      "<class 'dict'> <class 'dict'>\n",
      "<class 'dict'> {1: 'A', 2: 'B', 3: 'C', 4: 'D', 5: 'E'}\n"
     ]
    }
   ],
   "source": [
    "#empty dictionary\n",
    "dict1 = {}\n",
    "dict2 = dict()\n",
    "print(type(dict1), type(dict2))\n",
    "\n",
    "dict3 = {1:\"A\",2:\"B\",3:\"C\"}\n",
    "dict3[4]=\"D\"\n",
    "dict3[5] = \"E\"\n",
    "print(type(dict3), dict3)"
   ]
  },
  {
   "attachments": {},
   "cell_type": "markdown",
   "metadata": {},
   "source": [
    "### Access Data from Dictionary"
   ]
  },
  {
   "cell_type": "code",
   "execution_count": 7,
   "metadata": {},
   "outputs": [
    {
     "name": "stdout",
     "output_type": "stream",
     "text": [
      "B\n"
     ]
    }
   ],
   "source": [
    "dict1 = {1: 'A', 2: 'B', 3: 'C', 4: 'D', 5: 'E'}\n",
    "print(dict1[2])\n",
    "print(dict1[10]) #if data not exist - KeyError: 10"
   ]
  },
  {
   "cell_type": "code",
   "execution_count": 9,
   "metadata": {},
   "outputs": [
    {
     "name": "stdout",
     "output_type": "stream",
     "text": [
      "1 A\n",
      "2 B\n",
      "3 C\n",
      "4 D\n",
      "5 E\n"
     ]
    }
   ],
   "source": [
    "dict1 = {1: 'A', 2: 'B', 3: 'C', 4: 'D', 5: 'E'}\n",
    "for each in dict1:\n",
    "    print(each, dict1[each])"
   ]
  },
  {
   "attachments": {},
   "cell_type": "markdown",
   "metadata": {},
   "source": [
    "### Update Dictionaries"
   ]
  },
  {
   "cell_type": "code",
   "execution_count": 10,
   "metadata": {},
   "outputs": [
    {
     "name": "stdout",
     "output_type": "stream",
     "text": [
      "{1: 'Aa', 2: 'B', 3: 'C', 4: 'D', 5: 'E'}\n"
     ]
    }
   ],
   "source": [
    "dict1 = {1: 'A', 2: 'B', 3: 'C', 4: 'D', 5: 'E'}\n",
    "dict1[1]=\"Aa\"\n",
    "print(dict1)"
   ]
  },
  {
   "attachments": {},
   "cell_type": "markdown",
   "metadata": {},
   "source": [
    "### Delete Elements from Dictionary"
   ]
  },
  {
   "cell_type": "code",
   "execution_count": 17,
   "metadata": {},
   "outputs": [
    {
     "name": "stdout",
     "output_type": "stream",
     "text": [
      "{2: 'B', 3: 'C', 4: 'D', 5: 'E'}\n"
     ]
    },
    {
     "ename": "KeyError",
     "evalue": "1",
     "output_type": "error",
     "traceback": [
      "\u001b[1;31m---------------------------------------------------------------------------\u001b[0m",
      "\u001b[1;31mKeyError\u001b[0m                                  Traceback (most recent call last)",
      "Cell \u001b[1;32mIn[17], line 8\u001b[0m\n\u001b[0;32m      6\u001b[0m \u001b[39mdel\u001b[39;00m dict1[\u001b[39m1\u001b[39m]\n\u001b[0;32m      7\u001b[0m \u001b[39mprint\u001b[39m(dict1)\n\u001b[1;32m----> 8\u001b[0m \u001b[39mdel\u001b[39;00m dict1[\u001b[39m1\u001b[39;49m] \u001b[39m# KeyError: 1\u001b[39;00m\n",
      "\u001b[1;31mKeyError\u001b[0m: 1"
     ]
    }
   ],
   "source": [
    "# del d[key]\n",
    "\n",
    "dict1 = {1: 'A', 2: 'B', 3: 'C', 4: 'D', 5: 'E'}\n",
    "\n",
    "#del d[key] - delete entry associated with key, if key is not available returns KeyError\n",
    "del dict1[1]\n",
    "print(dict1)\n",
    "del dict1[1] # KeyError: 1"
   ]
  },
  {
   "cell_type": "code",
   "execution_count": 16,
   "metadata": {},
   "outputs": [
    {
     "name": "stdout",
     "output_type": "stream",
     "text": [
      "{}\n"
     ]
    }
   ],
   "source": [
    "# clear\n",
    "dict1 = {1: 'A', 2: 'B', 3: 'C', 4: 'D', 5: 'E'}\n",
    "\n",
    "# d.clear() - to remove all entries from dictionary\n",
    "dict1.clear()\n",
    "print(dict1)"
   ]
  },
  {
   "cell_type": "code",
   "execution_count": 18,
   "metadata": {},
   "outputs": [
    {
     "ename": "NameError",
     "evalue": "name 'dict1' is not defined",
     "output_type": "error",
     "traceback": [
      "\u001b[1;31m---------------------------------------------------------------------------\u001b[0m",
      "\u001b[1;31mNameError\u001b[0m                                 Traceback (most recent call last)",
      "Cell \u001b[1;32mIn[18], line 4\u001b[0m\n\u001b[0;32m      2\u001b[0m dict1 \u001b[39m=\u001b[39m {\u001b[39m1\u001b[39m: \u001b[39m'\u001b[39m\u001b[39mA\u001b[39m\u001b[39m'\u001b[39m, \u001b[39m2\u001b[39m: \u001b[39m'\u001b[39m\u001b[39mB\u001b[39m\u001b[39m'\u001b[39m, \u001b[39m3\u001b[39m: \u001b[39m'\u001b[39m\u001b[39mC\u001b[39m\u001b[39m'\u001b[39m, \u001b[39m4\u001b[39m: \u001b[39m'\u001b[39m\u001b[39mD\u001b[39m\u001b[39m'\u001b[39m, \u001b[39m5\u001b[39m: \u001b[39m'\u001b[39m\u001b[39mE\u001b[39m\u001b[39m'\u001b[39m}\n\u001b[0;32m      3\u001b[0m \u001b[39mdel\u001b[39;00m dict1\n\u001b[1;32m----> 4\u001b[0m \u001b[39mprint\u001b[39m(dict1)\n",
      "\u001b[1;31mNameError\u001b[0m: name 'dict1' is not defined"
     ]
    }
   ],
   "source": [
    "# del d - to delete total dictionary.\n",
    "dict1 = {1: 'A', 2: 'B', 3: 'C', 4: 'D', 5: 'E'}\n",
    "del dict1 \n",
    "print(dict1) # NameError: name 'dict1' is not defined"
   ]
  },
  {
   "attachments": {},
   "cell_type": "markdown",
   "metadata": {},
   "source": [
    "### FUnctions of dictionary"
   ]
  }
 ],
 "metadata": {
  "kernelspec": {
   "display_name": "pythonenv",
   "language": "python",
   "name": "python3"
  },
  "language_info": {
   "codemirror_mode": {
    "name": "ipython",
    "version": 3
   },
   "file_extension": ".py",
   "mimetype": "text/x-python",
   "name": "python",
   "nbconvert_exporter": "python",
   "pygments_lexer": "ipython3",
   "version": "3.11.2"
  },
  "orig_nbformat": 4
 },
 "nbformat": 4,
 "nbformat_minor": 2
}
